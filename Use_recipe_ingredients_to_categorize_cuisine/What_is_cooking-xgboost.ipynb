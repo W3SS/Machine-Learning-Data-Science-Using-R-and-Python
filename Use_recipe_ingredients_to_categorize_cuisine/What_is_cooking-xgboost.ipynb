{
 "cells": [
  {
   "cell_type": "code",
   "execution_count": 1,
   "metadata": {
    "collapsed": false
   },
   "outputs": [],
   "source": [
    "# import external libraries\n",
    "import numpy as np\n",
    "import pandas as pd\n",
    "import json\n",
    "from collections import defaultdict\n",
    "from scipy import sparse"
   ]
  },
  {
   "cell_type": "code",
   "execution_count": 2,
   "metadata": {
    "collapsed": true
   },
   "outputs": [],
   "source": [
    "from nltk.corpus import stopwords\n",
    "english_stopwords = stopwords.words('english')"
   ]
  },
  {
   "cell_type": "code",
   "execution_count": 3,
   "metadata": {
    "collapsed": false
   },
   "outputs": [],
   "source": [
    "def convert_to_json(filename='./data/train.json'):\n",
    "    \"\"\"\n",
    "    Reads in a file and returns json \n",
    "    \"\"\"\n",
    "    \n",
    "    with open(filename) as infile:\n",
    "        return json.load(infile)"
   ]
  },
  {
   "cell_type": "code",
   "execution_count": 4,
   "metadata": {
    "collapsed": true
   },
   "outputs": [],
   "source": [
    "def get_column_names(row):\n",
    "    \"\"\"\n",
    "    Takes in a row of the data and returns column names\n",
    "    \"\"\"\n",
    "    return row.keys()    "
   ]
  },
  {
   "cell_type": "code",
   "execution_count": 5,
   "metadata": {
    "collapsed": true
   },
   "outputs": [],
   "source": [
    "def get_content(row, col_name):\n",
    "    \"\"\"\n",
    "    Takes in a row and a column name\n",
    "    and returns a list of values\n",
    "    \"\"\"\n",
    "    if col_name == 'ingredients':\n",
    "        return ' '.join(row[col_name])\n",
    "    else:\n",
    "        return row[col_name]"
   ]
  },
  {
   "cell_type": "code",
   "execution_count": 6,
   "metadata": {
    "collapsed": false
   },
   "outputs": [],
   "source": [
    "whats_cooking_train = convert_to_json()\n",
    "whats_cooking_test = convert_to_json('./data/test.json')"
   ]
  },
  {
   "cell_type": "code",
   "execution_count": 7,
   "metadata": {
    "collapsed": true
   },
   "outputs": [],
   "source": [
    "def prepare_dataset(json_repr):\n",
    "    \"\"\"\n",
    "    Takes in a json representation of the data\n",
    "    and returns a Pandas DataFrame.\n",
    "    \"\"\"\n",
    "    \n",
    "    column_names = sorted(get_column_names(json_repr[0]))\n",
    "    cols = []\n",
    "    \n",
    "    for col_name in column_names:\n",
    "        cols.append([get_content(row, col_name) for row in json_repr])\n",
    "    \n",
    "    data = dict(zip(column_names, cols))\n",
    "    \n",
    "    df = pd.DataFrame(data)\n",
    "    df.set_index('id', inplace=True)\n",
    "    \n",
    "    return df\n"
   ]
  },
  {
   "cell_type": "code",
   "execution_count": 8,
   "metadata": {
    "collapsed": false
   },
   "outputs": [],
   "source": [
    "whats_cooking_train_df = prepare_dataset(whats_cooking_train)\n",
    "whats_cooking_test_df = prepare_dataset(whats_cooking_test)"
   ]
  },
  {
   "cell_type": "code",
   "execution_count": 9,
   "metadata": {
    "collapsed": false
   },
   "outputs": [
    {
     "data": {
      "text/html": [
       "<div style=\"max-height:1000px;max-width:1500px;overflow:auto;\">\n",
       "<table border=\"1\" class=\"dataframe\">\n",
       "  <thead>\n",
       "    <tr style=\"text-align: right;\">\n",
       "      <th></th>\n",
       "      <th>cuisine</th>\n",
       "      <th>ingredients</th>\n",
       "    </tr>\n",
       "    <tr>\n",
       "      <th>id</th>\n",
       "      <th></th>\n",
       "      <th></th>\n",
       "    </tr>\n",
       "  </thead>\n",
       "  <tbody>\n",
       "    <tr>\n",
       "      <th>10259</th>\n",
       "      <td>       greek</td>\n",
       "      <td> romaine lettuce black olives grape tomatoes ga...</td>\n",
       "    </tr>\n",
       "    <tr>\n",
       "      <th>25693</th>\n",
       "      <td> southern_us</td>\n",
       "      <td> plain flour ground pepper salt tomatoes ground...</td>\n",
       "    </tr>\n",
       "    <tr>\n",
       "      <th>20130</th>\n",
       "      <td>    filipino</td>\n",
       "      <td> eggs pepper salt mayonaise cooking oil green c...</td>\n",
       "    </tr>\n",
       "    <tr>\n",
       "      <th>22213</th>\n",
       "      <td>      indian</td>\n",
       "      <td>                    water vegetable oil wheat salt</td>\n",
       "    </tr>\n",
       "    <tr>\n",
       "      <th>13162</th>\n",
       "      <td>      indian</td>\n",
       "      <td> black pepper shallots cornflour cayenne pepper...</td>\n",
       "    </tr>\n",
       "  </tbody>\n",
       "</table>\n",
       "</div>"
      ],
      "text/plain": [
       "           cuisine                                        ingredients\n",
       "id                                                                   \n",
       "10259        greek  romaine lettuce black olives grape tomatoes ga...\n",
       "25693  southern_us  plain flour ground pepper salt tomatoes ground...\n",
       "20130     filipino  eggs pepper salt mayonaise cooking oil green c...\n",
       "22213       indian                     water vegetable oil wheat salt\n",
       "13162       indian  black pepper shallots cornflour cayenne pepper..."
      ]
     },
     "execution_count": 9,
     "metadata": {},
     "output_type": "execute_result"
    }
   ],
   "source": [
    "whats_cooking_train_df.head()"
   ]
  },
  {
   "cell_type": "code",
   "execution_count": 10,
   "metadata": {
    "collapsed": false
   },
   "outputs": [
    {
     "data": {
      "text/html": [
       "<div style=\"max-height:1000px;max-width:1500px;overflow:auto;\">\n",
       "<table border=\"1\" class=\"dataframe\">\n",
       "  <thead>\n",
       "    <tr style=\"text-align: right;\">\n",
       "      <th></th>\n",
       "      <th>ingredients</th>\n",
       "    </tr>\n",
       "    <tr>\n",
       "      <th>id</th>\n",
       "      <th></th>\n",
       "    </tr>\n",
       "  </thead>\n",
       "  <tbody>\n",
       "    <tr>\n",
       "      <th>18009</th>\n",
       "      <td> baking powder eggs all-purpose flour raisins m...</td>\n",
       "    </tr>\n",
       "    <tr>\n",
       "      <th>28583</th>\n",
       "      <td> sugar egg yolks corn starch cream of tartar ba...</td>\n",
       "    </tr>\n",
       "    <tr>\n",
       "      <th>41580</th>\n",
       "      <td> sausage links fennel bulb fronds olive oil cub...</td>\n",
       "    </tr>\n",
       "    <tr>\n",
       "      <th>29752</th>\n",
       "      <td> meat cuts file powder smoked sausage okra shri...</td>\n",
       "    </tr>\n",
       "    <tr>\n",
       "      <th>35687</th>\n",
       "      <td> ground black pepper salt sausage casings leeks...</td>\n",
       "    </tr>\n",
       "  </tbody>\n",
       "</table>\n",
       "</div>"
      ],
      "text/plain": [
       "                                             ingredients\n",
       "id                                                      \n",
       "18009  baking powder eggs all-purpose flour raisins m...\n",
       "28583  sugar egg yolks corn starch cream of tartar ba...\n",
       "41580  sausage links fennel bulb fronds olive oil cub...\n",
       "29752  meat cuts file powder smoked sausage okra shri...\n",
       "35687  ground black pepper salt sausage casings leeks..."
      ]
     },
     "execution_count": 10,
     "metadata": {},
     "output_type": "execute_result"
    }
   ],
   "source": [
    "whats_cooking_test_df.head()"
   ]
  },
  {
   "cell_type": "markdown",
   "metadata": {
    "collapsed": true
   },
   "source": [
    "## Questions"
   ]
  },
  {
   "cell_type": "code",
   "execution_count": 11,
   "metadata": {
    "collapsed": true
   },
   "outputs": [],
   "source": [
    "import re"
   ]
  },
  {
   "cell_type": "code",
   "execution_count": 12,
   "metadata": {
    "collapsed": true
   },
   "outputs": [],
   "source": [
    "## What are the different unique ingredients used across various cuisines ?\n",
    "\n",
    "def get_ingredients(cuisines):\n",
    "    all_ingredients = []\n",
    "\n",
    "    for i in range(cuisines.shape[0]):\n",
    "        ## get all the ingredients\n",
    "        ingredients = cuisines.iloc[i, 1].split(' ') # 1 here marks first column for ingredients\n",
    "    \n",
    "        for ingredient in ingredients:\n",
    "            ingredient = re.sub(r'[^A-Za-z]', '', ingredient)\n",
    "            # omit empty space and stopwords as ingredient name\n",
    "            if len(ingredient) > 2 and ingredient not in english_stopwords:\n",
    "                all_ingredients.append(ingredient.lower())\n",
    "    \n",
    "    return all_ingredients\n",
    "\n",
    "def get_unique_ingredients(cuisines):\n",
    "    all_ingredients = get_ingredients(cuisines)\n",
    "    \n",
    "    return set(all_ingredients)\n",
    "    "
   ]
  },
  {
   "cell_type": "code",
   "execution_count": 13,
   "metadata": {
    "collapsed": false
   },
   "outputs": [
    {
     "name": "stdout",
     "output_type": "stream",
     "text": [
      "3023\n"
     ]
    }
   ],
   "source": [
    "print len(get_unique_ingredients(whats_cooking_train_df))"
   ]
  },
  {
   "cell_type": "markdown",
   "metadata": {},
   "source": [
    "** There are 3023 different ingredients used across various cuisines, bearing in mind that we considered \n",
    "   e.g. black olives to be ['black', 'olive'] as two separate ingredients **"
   ]
  },
  {
   "cell_type": "code",
   "execution_count": 14,
   "metadata": {
    "collapsed": true
   },
   "outputs": [],
   "source": [
    "from collections import Counter"
   ]
  },
  {
   "cell_type": "code",
   "execution_count": 15,
   "metadata": {
    "collapsed": true
   },
   "outputs": [],
   "source": [
    "## What are the top most used ingredients ?\n",
    "\n",
    "def get_top_most_used_ingredients(cuisines):\n",
    "    all_ingredients = get_ingredients(cuisines)\n",
    "    \n",
    "    ## counts frequency of each ingredient\n",
    "    top_most_used_ingredients = Counter(all_ingredients)\n",
    "    \n",
    "    return sorted(top_most_used_ingredients, key=lambda x: top_most_used_ingredients[x], reverse=True)"
   ]
  },
  {
   "cell_type": "code",
   "execution_count": 16,
   "metadata": {
    "collapsed": false
   },
   "outputs": [],
   "source": [
    "top_most_used_ingredients = get_top_most_used_ingredients(whats_cooking_train_df)"
   ]
  },
  {
   "cell_type": "code",
   "execution_count": 17,
   "metadata": {
    "collapsed": false
   },
   "outputs": [
    {
     "name": "stdout",
     "output_type": "stream",
     "text": [
      "[u'pepper', u'salt', u'oil', u'garlic', u'ground', u'fresh', u'sauce', u'sugar', u'onions', u'cheese', u'chicken', u'olive', u'black', u'water', u'red', u'flour', u'butter', u'tomatoes', u'green', u'powder']\n"
     ]
    }
   ],
   "source": [
    "## 20 top most used ingredients\n",
    "print top_most_used_ingredients[:20]"
   ]
  },
  {
   "cell_type": "markdown",
   "metadata": {},
   "source": [
    "** This seems legit, indeed these are some of the top-most used ingredients in preparation of any cuisine **"
   ]
  },
  {
   "cell_type": "code",
   "execution_count": 18,
   "metadata": {
    "collapsed": true
   },
   "outputs": [],
   "source": [
    "## Ingredients per cuisine\n",
    "\n",
    "def get_ingredients_per_cuisine(grouped_cuisines, names_of_cuisines):\n",
    "    ingredients_per_cuisine = {}\n",
    "    \n",
    "    for name in names_of_cuisines:\n",
    "        cuisine_group = grouped_cuisines.get_group(name)\n",
    "        ingredients_per_cuisine[name] = list(get_unique_ingredients(cuisine_group))\n",
    "    \n",
    "    return ingredients_per_cuisine"
   ]
  },
  {
   "cell_type": "code",
   "execution_count": 19,
   "metadata": {
    "collapsed": false
   },
   "outputs": [],
   "source": [
    "grouped_cuisines = whats_cooking_train_df.groupby(['cuisine'])"
   ]
  },
  {
   "cell_type": "code",
   "execution_count": 20,
   "metadata": {
    "collapsed": false
   },
   "outputs": [],
   "source": [
    "names_of_cuisines = whats_cooking_train_df.cuisine.unique()"
   ]
  },
  {
   "cell_type": "code",
   "execution_count": 21,
   "metadata": {
    "collapsed": false
   },
   "outputs": [],
   "source": [
    "ingredients_per_cuisine = get_ingredients_per_cuisine(grouped_cuisines, names_of_cuisines)"
   ]
  },
  {
   "cell_type": "code",
   "execution_count": 22,
   "metadata": {
    "collapsed": false
   },
   "outputs": [
    {
     "name": "stdout",
     "output_type": "stream",
     "text": [
      "[u'irish', u'mexican', u'chinese', u'filipino', u'vietnamese', u'moroccan', u'brazilian', u'japanese', u'british', u'greek', u'indian', u'jamaican', u'french', u'spanish', u'russian', u'cajun_creole', u'thai', u'southern_us', u'korean', u'italian']\n"
     ]
    }
   ],
   "source": [
    "print ingredients_per_cuisine.keys()"
   ]
  },
  {
   "cell_type": "code",
   "execution_count": 23,
   "metadata": {
    "collapsed": false
   },
   "outputs": [
    {
     "name": "stdout",
     "output_type": "stream",
     "text": [
      "[u'freerange', u'monterey', u'portabello', u'chinese', u'mackerel', u'yellow', u'soften', u'olive', u'mild', u'fivespice', u'skim', u'shortgrain', u'gluten', u'skin', u'roots', u'mascarpone', u'milk', u'cummin', u'preserves', u'grape', u'sago', u'pattypan', u'assam', u'peanut', u'sparkling', u'granular', u'curds', u'dressing', u'couscous', u'tzatziki', u'brown', u'turnips', u'demerara', u'quorn', u'garden', u'yeast', u'citrus', u'kewra', u'vegan', u'baton', u'vadouvan', u'jalape', u'figs', u'softened', u'mooli', u'kappa', u'bhindi', u'minute', u'tortillas', u'baking']\n"
     ]
    }
   ],
   "source": [
    "## Lets check out what ingredients define indian cuisines\n",
    "print ingredients_per_cuisine['indian'][:50]"
   ]
  },
  {
   "cell_type": "markdown",
   "metadata": {},
   "source": [
    "## Preprocessing"
   ]
  },
  {
   "cell_type": "code",
   "execution_count": 24,
   "metadata": {
    "collapsed": true
   },
   "outputs": [],
   "source": [
    "cuisines_train = whats_cooking_train_df.copy()\n",
    "cuisines_test = whats_cooking_test_df.copy()"
   ]
  },
  {
   "cell_type": "code",
   "execution_count": 25,
   "metadata": {
    "collapsed": true
   },
   "outputs": [],
   "source": [
    "def process_ingredient_name(ingredient_name):\n",
    "    ingredient_name = re.sub(r'^A-Za-z', '', ingredient_name.lower())\n",
    "    return ingredient_name\n",
    "\n",
    "cuisines_train['ingredients'] = cuisines_train.ingredients.map(process_ingredient_name)\n",
    "cuisines_test['ingredients'] = cuisines_test.ingredients.map(process_ingredient_name)"
   ]
  },
  {
   "cell_type": "markdown",
   "metadata": {},
   "source": [
    "## Encoding labels"
   ]
  },
  {
   "cell_type": "code",
   "execution_count": 26,
   "metadata": {
    "collapsed": true
   },
   "outputs": [],
   "source": [
    "from sklearn.preprocessing import LabelEncoder"
   ]
  },
  {
   "cell_type": "code",
   "execution_count": 27,
   "metadata": {
    "collapsed": true
   },
   "outputs": [],
   "source": [
    "## training labels\n",
    "train_labels = cuisines_train.cuisine"
   ]
  },
  {
   "cell_type": "code",
   "execution_count": 28,
   "metadata": {
    "collapsed": false
   },
   "outputs": [
    {
     "data": {
      "text/plain": [
       "LabelEncoder()"
      ]
     },
     "execution_count": 28,
     "metadata": {},
     "output_type": "execute_result"
    }
   ],
   "source": [
    "lbl_encoder = LabelEncoder()\n",
    "lbl_encoder.fit(train_labels)"
   ]
  },
  {
   "cell_type": "code",
   "execution_count": 29,
   "metadata": {
    "collapsed": true
   },
   "outputs": [],
   "source": [
    "target = lbl_encoder.transform(train_labels)"
   ]
  },
  {
   "cell_type": "markdown",
   "metadata": {},
   "source": [
    "## Modelling"
   ]
  },
  {
   "cell_type": "code",
   "execution_count": 30,
   "metadata": {
    "collapsed": true
   },
   "outputs": [],
   "source": [
    "## online learning algorithm\n",
    "from sklearn.feature_extraction.text import TfidfVectorizer, CountVectorizer\n",
    "from sklearn.linear_model import PassiveAggressiveClassifier, LogisticRegression\n",
    "from sklearn.cross_validation import StratifiedShuffleSplit"
   ]
  },
  {
   "cell_type": "code",
   "execution_count": 147,
   "metadata": {
    "collapsed": true
   },
   "outputs": [],
   "source": [
    "sss = StratifiedShuffleSplit(target, test_size=0.3)\n",
    "\n",
    "train_index, test_index = next(iter(sss))"
   ]
  },
  {
   "cell_type": "code",
   "execution_count": 148,
   "metadata": {
    "collapsed": true
   },
   "outputs": [],
   "source": [
    "train_X = cuisines_train.iloc[train_index, 1]\n",
    "train_target = target[train_index]\n",
    "\n",
    "test_X = cuisines_train.iloc[test_index, 1]\n",
    "test_target = target[test_index]"
   ]
  },
  {
   "cell_type": "code",
   "execution_count": 149,
   "metadata": {
    "collapsed": false
   },
   "outputs": [],
   "source": [
    "vec = TfidfVectorizer(ngram_range=(1, 2), stop_words=english_stopwords)\n",
    "X_train = vec.fit_transform(train_X)\n",
    "y_train = train_target"
   ]
  },
  {
   "cell_type": "code",
   "execution_count": 150,
   "metadata": {
    "collapsed": false
   },
   "outputs": [
    {
     "data": {
      "text/plain": [
       "PassiveAggressiveClassifier(C=0.1, fit_intercept=True, loss='hinge', n_iter=5,\n",
       "              n_jobs=1, random_state=None, shuffle=True, verbose=0,\n",
       "              warm_start=False)"
      ]
     },
     "execution_count": 150,
     "metadata": {},
     "output_type": "execute_result"
    }
   ],
   "source": [
    "pac = PassiveAggressiveClassifier(C=0.1)\n",
    "pac.fit(X_train, y_train)"
   ]
  },
  {
   "cell_type": "code",
   "execution_count": 151,
   "metadata": {
    "collapsed": false
   },
   "outputs": [
    {
     "name": "stdout",
     "output_type": "stream",
     "text": [
      "Training score %f  0.899777282851\n"
     ]
    }
   ],
   "source": [
    "print 'Training score %f ', pac.score(X_train, y_train)"
   ]
  },
  {
   "cell_type": "code",
   "execution_count": 152,
   "metadata": {
    "collapsed": true
   },
   "outputs": [],
   "source": [
    "X_test = vec.transform(test_X)\n",
    "y_test = test_target"
   ]
  },
  {
   "cell_type": "code",
   "execution_count": 153,
   "metadata": {
    "collapsed": true
   },
   "outputs": [],
   "source": [
    "pac_preds = pac.predict(X_test)"
   ]
  },
  {
   "cell_type": "code",
   "execution_count": 154,
   "metadata": {
    "collapsed": false
   },
   "outputs": [
    {
     "name": "stdout",
     "output_type": "stream",
     "text": [
      "Test score %f  0.780747319035\n"
     ]
    }
   ],
   "source": [
    "print 'Test score %f ', pac.score(X_test, y_test)"
   ]
  },
  {
   "cell_type": "code",
   "execution_count": 155,
   "metadata": {
    "collapsed": true
   },
   "outputs": [],
   "source": [
    "cvec = CountVectorizer()\n",
    "X_train = cvec.fit_transform(train_X)"
   ]
  },
  {
   "cell_type": "code",
   "execution_count": 156,
   "metadata": {
    "collapsed": false
   },
   "outputs": [
    {
     "data": {
      "text/plain": [
       "LogisticRegression(C=1, class_weight=None, dual=False, fit_intercept=True,\n",
       "          intercept_scaling=1, max_iter=100, multi_class='ovr',\n",
       "          penalty='l1', random_state=None, solver='liblinear', tol=0.0001,\n",
       "          verbose=0)"
      ]
     },
     "execution_count": 156,
     "metadata": {},
     "output_type": "execute_result"
    }
   ],
   "source": [
    "log = LogisticRegression(C=1, penalty='l1')\n",
    "log.fit(X_train.toarray(), y_train)"
   ]
  },
  {
   "cell_type": "code",
   "execution_count": 157,
   "metadata": {
    "collapsed": false
   },
   "outputs": [
    {
     "name": "stdout",
     "output_type": "stream",
     "text": [
      "Training score %f  0.839966951649\n"
     ]
    }
   ],
   "source": [
    "print 'Training score %f ', log.score(X_train.toarray(), y_train)"
   ]
  },
  {
   "cell_type": "code",
   "execution_count": 158,
   "metadata": {
    "collapsed": true
   },
   "outputs": [],
   "source": [
    "X_test = cvec.transform(test_X)\n",
    "y_test = test_target"
   ]
  },
  {
   "cell_type": "code",
   "execution_count": 159,
   "metadata": {
    "collapsed": true
   },
   "outputs": [],
   "source": [
    "log_preds = log.predict(X_test.toarray())"
   ]
  },
  {
   "cell_type": "code",
   "execution_count": 160,
   "metadata": {
    "collapsed": false
   },
   "outputs": [
    {
     "name": "stdout",
     "output_type": "stream",
     "text": [
      "Test score %f  0.778401474531\n"
     ]
    }
   ],
   "source": [
    "print 'Test score %f ', log.score(X_test.toarray(), y_test)"
   ]
  },
  {
   "cell_type": "code",
   "execution_count": 145,
   "metadata": {
    "collapsed": true
   },
   "outputs": [],
   "source": [
    "from sklearn.metrics import confusion_matrix"
   ]
  },
  {
   "cell_type": "code",
   "execution_count": 162,
   "metadata": {
    "collapsed": false
   },
   "outputs": [
    {
     "name": "stdout",
     "output_type": "stream",
     "text": [
      "[[  61    1    2    0    3    4    0    5    0   14    1    3    0   22\n",
      "     0    0   17    3    4    0]\n",
      " [   1   71    1    1    2   42    0   11   14   30    0    0    3    1\n",
      "     1    4   59    0    0    0]\n",
      " [   0    2  346    1    0   16    0    0    2   27    1    0    1   12\n",
      "     0    2   53    1    0    0]\n",
      " [   2    1    6  691    7    3    0    7    0    8    2   14   15    4\n",
      "     3    1    7    0   21   10]\n",
      " [   3    1    3   24  135    4    0    6    2   12    0    2    4    5\n",
      "     0    1    9    3    8    5]\n",
      " [   1    8   12    3    7  484    5    6    3  183    2    3    0    5\n",
      "     3    9   48   10    1    1]\n",
      " [   0    0    0    2    1    5  241    5    0   75    1    2    0    3\n",
      "     9    0    5    3    1    0]\n",
      " [   0    1    3    2    1    2    8  823    0   10    1    1    1   15\n",
      "    16    1    5    1    9    1]\n",
      " [   0   10    0    4    0   31    4    2   89   12    1    0    1    1\n",
      "     2    0   39    2    1    1]\n",
      " [   2    4    9    2    1   86   18   10    4 2118    2    1    0   29\n",
      "     8    2   47    8    0    1]\n",
      " [   0    3    3    2    3    6    1    7    2    4  106    0    0    8\n",
      "     0    0   11    1    0    1]\n",
      " [   0    1    1   48    8    2    0   42    0    4    0  302    4    3\n",
      "     0    3    4    0    5    0]\n",
      " [   0    1    0   39    0    1    0    0    0    1    0   14  181    3\n",
      "     1    1    3    0    1    3]\n",
      " [   3    2    3    4    4   16    3    9    1   37    5    3    0 1794\n",
      "     3    1   36    7    1    0]\n",
      " [   0    0    0    0    0    2    5   17    1   16    2    0    0    5\n",
      "   188    0    5    3    0    2]\n",
      " [   2    4    2    0    2   28    9    2    3   19    1    1    0    6\n",
      "     2   52   13    1    0    0]\n",
      " [   0    7   64    2    3   42    4   10    9   55    5    3    1   35\n",
      "     5    4 1039    6    1    1]\n",
      " [   1    0    3    4    4   33    3    3    0   77    2    1    0   29\n",
      "     4    3   13  117    0    0]\n",
      " [   1    1    1   25    6    1    2   17    0    2    2    4    1    8\n",
      "     0    0    2    0  364   25]\n",
      " [   1    0    0   35    5    4    1    2    1    2    0    5    2    4\n",
      "     1    1    0    0   67  117]]\n"
     ]
    }
   ],
   "source": [
    "# confusion matrix for pac learner\n",
    "print confusion_matrix(y_test, pac_preds)"
   ]
  },
  {
   "cell_type": "code",
   "execution_count": 167,
   "metadata": {
    "collapsed": false
   },
   "outputs": [
    {
     "data": {
      "text/plain": [
       "array([u'brazilian', u'british', u'cajun_creole', u'chinese', u'filipino',\n",
       "       u'french', u'greek', u'indian', u'irish', u'italian', u'jamaican',\n",
       "       u'japanese', u'korean', u'mexican', u'moroccan', u'russian',\n",
       "       u'southern_us', u'spanish', u'thai', u'vietnamese'], dtype=object)"
      ]
     },
     "execution_count": 167,
     "metadata": {},
     "output_type": "execute_result"
    }
   ],
   "source": [
    "lbl_encoder.classes_"
   ]
  },
  {
   "cell_type": "code",
   "execution_count": 164,
   "metadata": {
    "collapsed": false
   },
   "outputs": [
    {
     "name": "stdout",
     "output_type": "stream",
     "text": [
      "[[  75    1    2    0    4    3    0    5    0   11    1    0    0   19\n",
      "     0    0   14    4    1    0]\n",
      " [   0   95    1    2    0   33    0    6   19   27    0    0    0    1\n",
      "     1    2   50    4    0    0]\n",
      " [   0    3  338    1    0   11    0    0    1   24    1    0    1   11\n",
      "     0    1   64    7    0    1]\n",
      " [   5    1    2  670    8    4    0    6    0   17    2   22   18    7\n",
      "     0    2   12    0   21    5]\n",
      " [   5    1    2   24  135    7    0    3    2   15    0    4    0    5\n",
      "     0    1   10    3    7    3]\n",
      " [   3   12    5    2    1  500    8    1    6  160    0    4    0    6\n",
      "     1    9   58   16    1    1]\n",
      " [   0    0    1    1    0   10  259    7    0   54    0    1    0    3\n",
      "     3    0    6    8    0    0]\n",
      " [   3    1    1    6    2    3    8  781    2   17    5    5    2   24\n",
      "    20    2   13    1    3    2]\n",
      " [   0   16    0    1    2   29    3    1   93   14    0    0    0    1\n",
      "     2    1   34    2    0    1]\n",
      " [   0    4   11    1    0  117   21    7    5 2073    1    3    0   24\n",
      "     2   10   58   14    0    1]\n",
      " [   1    4    2    0    1    6    0    8    3    4  111    0    1    4\n",
      "     0    0   11    1    0    1]\n",
      " [   0    1    1   44    3    5    0   40    0    7    0  302    4    4\n",
      "     0    2    8    0    4    2]\n",
      " [   0    2    0   34    0    1    0    1    0    3    0   11  183    3\n",
      "     1    0    5    0    2    3]\n",
      " [   3    2    3    3    3   19    3    4    1   44    3    2    0 1782\n",
      "     3    0   44   12    1    0]\n",
      " [   0    0    3    1    0    6    6   17    1   17    2    0    1    6\n",
      "   174    0    8    4    0    0]\n",
      " [   0    5    1    1    1   27    6    2    4   20    1    1    0    4\n",
      "     0   51   20    1    0    2]\n",
      " [   5   13   53    3    2   44    5    4    7   59    4    2    0   37\n",
      "     3    5 1041    6    3    0]\n",
      " [   4    0    1    0    3   36    7    4    2   57    0    0    0   23\n",
      "     4    3   12  141    0    0]\n",
      " [   0    1    1   24    8    1    1   13    0    3    1    6    0   10\n",
      "     0    0    4    0  359   30]\n",
      " [   0    0    0   32    6    4    1    2    0    7    0    5    2    3\n",
      "     1    0    1    2   54  128]]\n"
     ]
    }
   ],
   "source": [
    "# confusion matrix for logistic regression\n",
    "print confusion_matrix(y_test, log_preds)"
   ]
  },
  {
   "cell_type": "markdown",
   "metadata": {},
   "source": [
    "## One-hot encoding"
   ]
  },
  {
   "cell_type": "code",
   "execution_count": 31,
   "metadata": {
    "collapsed": true
   },
   "outputs": [],
   "source": [
    "from collections import defaultdict"
   ]
  },
  {
   "cell_type": "code",
   "execution_count": 40,
   "metadata": {
    "collapsed": false
   },
   "outputs": [],
   "source": [
    "def prepare_bag_of_ingredients(cuisines):\n",
    "    one_hot_encoded = defaultdict(list)\n",
    "\n",
    "    for i in range(cuisines.shape[0]):\n",
    "        ingredient = cuisines.iloc[i, 0]\n",
    "\n",
    "        for u_ingr in top_most_used_ingredients[:750]:\n",
    "            if u_ingr in ingredient:\n",
    "                one_hot_encoded[u_ingr].append(1)\n",
    "            else:\n",
    "                one_hot_encoded[u_ingr].append(0)\n",
    "    \n",
    "    return one_hot_encoded"
   ]
  },
  {
   "cell_type": "code",
   "execution_count": 36,
   "metadata": {
    "collapsed": false
   },
   "outputs": [],
   "source": [
    "sss_2 = StratifiedShuffleSplit(target, train_size=35000)\n",
    "\n",
    "train_index, test_index = next(iter(sss_2))\n",
    "\n",
    "train_X = cuisines_train.iloc[train_index]\n",
    "train_target = target[train_index]\n",
    "\n",
    "test_X = cuisines_train.iloc[test_index]\n",
    "test_target = target[test_index]"
   ]
  },
  {
   "cell_type": "code",
   "execution_count": 37,
   "metadata": {
    "collapsed": false
   },
   "outputs": [],
   "source": [
    "bag_of_ingredients_train = prepare_bag_of_ingredients(train_X)"
   ]
  },
  {
   "cell_type": "code",
   "execution_count": 38,
   "metadata": {
    "collapsed": false
   },
   "outputs": [],
   "source": [
    "bag_of_ingredients_df_train = pd.DataFrame(bag_of_ingredients_train)"
   ]
  },
  {
   "cell_type": "code",
   "execution_count": 39,
   "metadata": {
    "collapsed": false
   },
   "outputs": [
    {
     "name": "stdout",
     "output_type": "stream",
     "text": [
      "<class 'pandas.core.frame.DataFrame'>\n",
      "Int64Index: 35000 entries, 0 to 34999\n",
      "Columns: 750 entries, active to zucchini\n",
      "dtypes: int64(750)\n",
      "memory usage: 200.5 MB\n"
     ]
    }
   ],
   "source": [
    "bag_of_ingredients_df_train.info()"
   ]
  },
  {
   "cell_type": "code",
   "execution_count": 41,
   "metadata": {
    "collapsed": false
   },
   "outputs": [],
   "source": [
    "bag_of_ingredients_test = prepare_bag_of_ingredients(cuisines_test)"
   ]
  },
  {
   "cell_type": "code",
   "execution_count": 42,
   "metadata": {
    "collapsed": true
   },
   "outputs": [],
   "source": [
    "bag_of_ingredients_df_test = pd.DataFrame(bag_of_ingredients_test)"
   ]
  },
  {
   "cell_type": "code",
   "execution_count": 43,
   "metadata": {
    "collapsed": false
   },
   "outputs": [
    {
     "name": "stdout",
     "output_type": "stream",
     "text": [
      "<class 'pandas.core.frame.DataFrame'>\n",
      "Int64Index: 9944 entries, 0 to 9943\n",
      "Columns: 750 entries, active to zucchini\n",
      "dtypes: int64(750)\n",
      "memory usage: 57.0 MB\n"
     ]
    }
   ],
   "source": [
    "bag_of_ingredients_df_test.info()"
   ]
  },
  {
   "cell_type": "code",
   "execution_count": 44,
   "metadata": {
    "collapsed": false
   },
   "outputs": [],
   "source": [
    "from scipy import sparse"
   ]
  },
  {
   "cell_type": "code",
   "execution_count": 45,
   "metadata": {
    "collapsed": true
   },
   "outputs": [],
   "source": [
    "bag_of_ingredients_sparse= sparse.csr_matrix(bag_of_ingredients_df_train.values)"
   ]
  },
  {
   "cell_type": "code",
   "execution_count": 46,
   "metadata": {
    "collapsed": true
   },
   "outputs": [],
   "source": [
    "bag_of_ingredients_sparse_test = sparse.csr_matrix(bag_of_ingredients_df_test.values)"
   ]
  },
  {
   "cell_type": "code",
   "execution_count": 47,
   "metadata": {
    "collapsed": true
   },
   "outputs": [],
   "source": [
    "from sklearn.cross_validation import train_test_split"
   ]
  },
  {
   "cell_type": "code",
   "execution_count": 48,
   "metadata": {
    "collapsed": false
   },
   "outputs": [],
   "source": [
    "X_train, X_test, y_train, y_test = train_test_split(bag_of_ingredients_sparse, train_target, test_size=0.2)"
   ]
  },
  {
   "cell_type": "code",
   "execution_count": 49,
   "metadata": {
    "collapsed": true
   },
   "outputs": [],
   "source": [
    "import xgboost as xgb"
   ]
  },
  {
   "cell_type": "code",
   "execution_count": 50,
   "metadata": {
    "collapsed": true
   },
   "outputs": [],
   "source": [
    "xg_train = xgb.DMatrix( X_train, label=y_train )\n",
    "xg_test = xgb.DMatrix( X_test, label=y_test )"
   ]
  },
  {
   "cell_type": "code",
   "execution_count": 54,
   "metadata": {
    "collapsed": true
   },
   "outputs": [],
   "source": [
    "# setup parameters for xgboost\n",
    "param = {}\n",
    "# use softmax multi-class classification\n",
    "param['objective'] = 'multi:softmax'\n",
    "# scale weight of positive examples\n",
    "param['eta'] = 0.03\n",
    "param['max_depth'] = 8\n",
    "param['silent'] = 1\n",
    "param['nthread'] = 8\n",
    "param['num_class'] = 20\n",
    "param['colsample_bytree'] = 0.7\n",
    "param['subsample'] = 0.8"
   ]
  },
  {
   "cell_type": "code",
   "execution_count": null,
   "metadata": {
    "collapsed": false
   },
   "outputs": [
    {
     "name": "stderr",
     "output_type": "stream",
     "text": [
      "[0]\ttrain-merror:0.356000\ttest-merror:0.391857\n",
      "[1]\ttrain-merror:0.305929\ttest-merror:0.335571\n",
      "[2]\ttrain-merror:0.291393\ttest-merror:0.326714\n",
      "[3]\ttrain-merror:0.278429\ttest-merror:0.316286\n",
      "[4]\ttrain-merror:0.276679\ttest-merror:0.314857\n",
      "[5]\ttrain-merror:0.274607\ttest-merror:0.310286\n",
      "[6]\ttrain-merror:0.272393\ttest-merror:0.309000\n",
      "[7]\ttrain-merror:0.269571\ttest-merror:0.307571\n",
      "[8]\ttrain-merror:0.267107\ttest-merror:0.307571\n",
      "[9]\ttrain-merror:0.263929\ttest-merror:0.304857\n",
      "[10]\ttrain-merror:0.260536\ttest-merror:0.303571\n",
      "[11]\ttrain-merror:0.258643\ttest-merror:0.302571\n",
      "[12]\ttrain-merror:0.257929\ttest-merror:0.303000\n",
      "[13]\ttrain-merror:0.256536\ttest-merror:0.301714\n",
      "[14]\ttrain-merror:0.255321\ttest-merror:0.300429\n",
      "[15]\ttrain-merror:0.254786\ttest-merror:0.299000\n",
      "[16]\ttrain-merror:0.253643\ttest-merror:0.299000\n",
      "[17]\ttrain-merror:0.253500\ttest-merror:0.297714\n",
      "[18]\ttrain-merror:0.252250\ttest-merror:0.298000\n",
      "[19]\ttrain-merror:0.251607\ttest-merror:0.297571\n",
      "[20]\ttrain-merror:0.250857\ttest-merror:0.295429\n",
      "[21]\ttrain-merror:0.248893\ttest-merror:0.293571\n",
      "[22]\ttrain-merror:0.247929\ttest-merror:0.294571\n",
      "[23]\ttrain-merror:0.246786\ttest-merror:0.293286\n",
      "[24]\ttrain-merror:0.246286\ttest-merror:0.291429\n",
      "[25]\ttrain-merror:0.245750\ttest-merror:0.291857\n",
      "[26]\ttrain-merror:0.245393\ttest-merror:0.291571\n",
      "[27]\ttrain-merror:0.244357\ttest-merror:0.291286\n",
      "[28]\ttrain-merror:0.244143\ttest-merror:0.289857\n",
      "[29]\ttrain-merror:0.242893\ttest-merror:0.288714\n",
      "[30]\ttrain-merror:0.242643\ttest-merror:0.288286\n",
      "[31]\ttrain-merror:0.241750\ttest-merror:0.288286\n",
      "[32]\ttrain-merror:0.241250\ttest-merror:0.287714\n",
      "[33]\ttrain-merror:0.240571\ttest-merror:0.287286\n",
      "[34]\ttrain-merror:0.240286\ttest-merror:0.287000\n",
      "[35]\ttrain-merror:0.239500\ttest-merror:0.285571\n",
      "[36]\ttrain-merror:0.239714\ttest-merror:0.284143\n",
      "[37]\ttrain-merror:0.239571\ttest-merror:0.284714\n",
      "[38]\ttrain-merror:0.238286\ttest-merror:0.283714\n",
      "[39]\ttrain-merror:0.237786\ttest-merror:0.284000\n",
      "[40]\ttrain-merror:0.237357\ttest-merror:0.284429\n",
      "[41]\ttrain-merror:0.236393\ttest-merror:0.284429\n",
      "[42]\ttrain-merror:0.235286\ttest-merror:0.282857\n",
      "[43]\ttrain-merror:0.235214\ttest-merror:0.281714\n",
      "[44]\ttrain-merror:0.235000\ttest-merror:0.281000\n",
      "[45]\ttrain-merror:0.234643\ttest-merror:0.281000\n",
      "[46]\ttrain-merror:0.233893\ttest-merror:0.281286\n",
      "[47]\ttrain-merror:0.233429\ttest-merror:0.281429\n",
      "[48]\ttrain-merror:0.233714\ttest-merror:0.281429\n",
      "[49]\ttrain-merror:0.233286\ttest-merror:0.280857\n",
      "[50]\ttrain-merror:0.232607\ttest-merror:0.279714\n",
      "[51]\ttrain-merror:0.232071\ttest-merror:0.279571\n",
      "[52]\ttrain-merror:0.231964\ttest-merror:0.280000\n",
      "[53]\ttrain-merror:0.231286\ttest-merror:0.279143\n",
      "[54]\ttrain-merror:0.230393\ttest-merror:0.278714\n",
      "[55]\ttrain-merror:0.229964\ttest-merror:0.278714\n",
      "[56]\ttrain-merror:0.229893\ttest-merror:0.277857\n",
      "[57]\ttrain-merror:0.229679\ttest-merror:0.278143\n",
      "[58]\ttrain-merror:0.229143\ttest-merror:0.277571\n",
      "[59]\ttrain-merror:0.228893\ttest-merror:0.277429\n",
      "[60]\ttrain-merror:0.228429\ttest-merror:0.277286\n",
      "[61]\ttrain-merror:0.227821\ttest-merror:0.277429\n",
      "[62]\ttrain-merror:0.227857\ttest-merror:0.277429\n",
      "[63]\ttrain-merror:0.227786\ttest-merror:0.276714\n",
      "[64]\ttrain-merror:0.226857\ttest-merror:0.276429\n",
      "[65]\ttrain-merror:0.226821\ttest-merror:0.276429\n",
      "[66]\ttrain-merror:0.226750\ttest-merror:0.275714\n",
      "[67]\ttrain-merror:0.226250\ttest-merror:0.276000\n",
      "[68]\ttrain-merror:0.226036\ttest-merror:0.275000\n",
      "[69]\ttrain-merror:0.225821\ttest-merror:0.275000\n",
      "[70]\ttrain-merror:0.225643\ttest-merror:0.274857\n",
      "[71]\ttrain-merror:0.224929\ttest-merror:0.274429\n",
      "[72]\ttrain-merror:0.224429\ttest-merror:0.274429\n",
      "[73]\ttrain-merror:0.224214\ttest-merror:0.274143\n",
      "[74]\ttrain-merror:0.223857\ttest-merror:0.274143\n",
      "[75]\ttrain-merror:0.223536\ttest-merror:0.273429\n",
      "[76]\ttrain-merror:0.223393\ttest-merror:0.273571\n",
      "[77]\ttrain-merror:0.222893\ttest-merror:0.272286\n",
      "[78]\ttrain-merror:0.222357\ttest-merror:0.272571\n",
      "[79]\ttrain-merror:0.222036\ttest-merror:0.272571\n",
      "[80]\ttrain-merror:0.221929\ttest-merror:0.272857\n",
      "[81]\ttrain-merror:0.221643\ttest-merror:0.272857\n",
      "[82]\ttrain-merror:0.220929\ttest-merror:0.272143\n",
      "[83]\ttrain-merror:0.220786\ttest-merror:0.272000\n",
      "[84]\ttrain-merror:0.220179\ttest-merror:0.271429\n",
      "[85]\ttrain-merror:0.219821\ttest-merror:0.270714\n",
      "[86]\ttrain-merror:0.219429\ttest-merror:0.270000\n",
      "[87]\ttrain-merror:0.219321\ttest-merror:0.269429\n",
      "[88]\ttrain-merror:0.218786\ttest-merror:0.270286\n",
      "[89]\ttrain-merror:0.218714\ttest-merror:0.270429\n",
      "[90]\ttrain-merror:0.218107\ttest-merror:0.269714\n",
      "[91]\ttrain-merror:0.217929\ttest-merror:0.269714\n",
      "[92]\ttrain-merror:0.217929\ttest-merror:0.268714\n",
      "[93]\ttrain-merror:0.217286\ttest-merror:0.268429\n",
      "[94]\ttrain-merror:0.217071\ttest-merror:0.268286\n",
      "[95]\ttrain-merror:0.216750\ttest-merror:0.267571\n",
      "[96]\ttrain-merror:0.216821\ttest-merror:0.267143\n",
      "[97]\ttrain-merror:0.216679\ttest-merror:0.267000\n",
      "[98]\ttrain-merror:0.216321\ttest-merror:0.265714\n",
      "[99]\ttrain-merror:0.215929\ttest-merror:0.266143\n",
      "[100]\ttrain-merror:0.215607\ttest-merror:0.266000\n",
      "[101]\ttrain-merror:0.215321\ttest-merror:0.266714\n",
      "[102]\ttrain-merror:0.214679\ttest-merror:0.266143\n",
      "[103]\ttrain-merror:0.214250\ttest-merror:0.265857\n",
      "[104]\ttrain-merror:0.213929\ttest-merror:0.266000\n",
      "[105]\ttrain-merror:0.213714\ttest-merror:0.265429\n",
      "[106]\ttrain-merror:0.213036\ttest-merror:0.265429\n",
      "[107]\ttrain-merror:0.212714\ttest-merror:0.264857\n",
      "[108]\ttrain-merror:0.212321\ttest-merror:0.263857\n",
      "[109]\ttrain-merror:0.212036\ttest-merror:0.264714\n",
      "[110]\ttrain-merror:0.211714\ttest-merror:0.264571\n",
      "[111]\ttrain-merror:0.211429\ttest-merror:0.264000\n",
      "[112]\ttrain-merror:0.211286\ttest-merror:0.263286\n",
      "[113]\ttrain-merror:0.210929\ttest-merror:0.262857\n",
      "[114]\ttrain-merror:0.210643\ttest-merror:0.262000\n",
      "[115]\ttrain-merror:0.210286\ttest-merror:0.262000\n",
      "[116]\ttrain-merror:0.210179\ttest-merror:0.261286\n",
      "[117]\ttrain-merror:0.210179\ttest-merror:0.261143\n",
      "[118]\ttrain-merror:0.209893\ttest-merror:0.260286\n",
      "[119]\ttrain-merror:0.209286\ttest-merror:0.260571\n",
      "[120]\ttrain-merror:0.209000\ttest-merror:0.260714\n",
      "[121]\ttrain-merror:0.208393\ttest-merror:0.260571\n",
      "[122]\ttrain-merror:0.208321\ttest-merror:0.260143\n",
      "[123]\ttrain-merror:0.208143\ttest-merror:0.259714\n",
      "[124]\ttrain-merror:0.207786\ttest-merror:0.259143\n",
      "[125]\ttrain-merror:0.207571\ttest-merror:0.259286\n",
      "[126]\ttrain-merror:0.207464\ttest-merror:0.258714\n",
      "[127]\ttrain-merror:0.207357\ttest-merror:0.258143\n",
      "[128]\ttrain-merror:0.207071\ttest-merror:0.257571\n",
      "[129]\ttrain-merror:0.206786\ttest-merror:0.257714\n",
      "[130]\ttrain-merror:0.206357\ttest-merror:0.257429\n",
      "[131]\ttrain-merror:0.206143\ttest-merror:0.256857\n",
      "[132]\ttrain-merror:0.205821\ttest-merror:0.257571\n",
      "[133]\ttrain-merror:0.205714\ttest-merror:0.257286\n",
      "[134]\ttrain-merror:0.205464\ttest-merror:0.257571\n",
      "[135]\ttrain-merror:0.205000\ttest-merror:0.257429\n",
      "[136]\ttrain-merror:0.204929\ttest-merror:0.257286\n",
      "[137]\ttrain-merror:0.204643\ttest-merror:0.256714\n",
      "[138]\ttrain-merror:0.204321\ttest-merror:0.256571\n",
      "[139]\ttrain-merror:0.204036\ttest-merror:0.256571\n",
      "[140]\ttrain-merror:0.203714\ttest-merror:0.256286\n",
      "[141]\ttrain-merror:0.203393\ttest-merror:0.256429\n",
      "[142]\ttrain-merror:0.203179\ttest-merror:0.256429\n",
      "[143]\ttrain-merror:0.203071\ttest-merror:0.255857\n",
      "[144]\ttrain-merror:0.202679\ttest-merror:0.255714\n",
      "[145]\ttrain-merror:0.202464\ttest-merror:0.255714\n",
      "[146]\ttrain-merror:0.202000\ttest-merror:0.255286\n",
      "[147]\ttrain-merror:0.201679\ttest-merror:0.255429\n",
      "[148]\ttrain-merror:0.200964\ttest-merror:0.255571\n",
      "[149]\ttrain-merror:0.200643\ttest-merror:0.255857\n",
      "[150]\ttrain-merror:0.200571\ttest-merror:0.255143\n",
      "[151]\ttrain-merror:0.200429\ttest-merror:0.255286\n",
      "[152]\ttrain-merror:0.200143\ttest-merror:0.255429\n",
      "[153]\ttrain-merror:0.199893\ttest-merror:0.255286\n",
      "[154]\ttrain-merror:0.199571\ttest-merror:0.255143\n",
      "[155]\ttrain-merror:0.199214\ttest-merror:0.254571\n",
      "[156]\ttrain-merror:0.199107\ttest-merror:0.254571\n",
      "[157]\ttrain-merror:0.199071\ttest-merror:0.254286\n",
      "[158]\ttrain-merror:0.198893\ttest-merror:0.254571\n",
      "[159]\ttrain-merror:0.198536\ttest-merror:0.254429\n",
      "[160]\ttrain-merror:0.198393\ttest-merror:0.253714\n",
      "[161]\ttrain-merror:0.198214\ttest-merror:0.254286\n",
      "[162]\ttrain-merror:0.197857\ttest-merror:0.254143\n",
      "[163]\ttrain-merror:0.197571\ttest-merror:0.253714\n",
      "[164]\ttrain-merror:0.197071\ttest-merror:0.253286\n",
      "[165]\ttrain-merror:0.196786\ttest-merror:0.253143\n",
      "[166]\ttrain-merror:0.196643\ttest-merror:0.253143\n",
      "[167]\ttrain-merror:0.196250\ttest-merror:0.252857\n",
      "[168]\ttrain-merror:0.196179\ttest-merror:0.252143\n",
      "[169]\ttrain-merror:0.195929\ttest-merror:0.252143\n",
      "[170]\ttrain-merror:0.195429\ttest-merror:0.251714\n",
      "[171]\ttrain-merror:0.195250\ttest-merror:0.251429\n",
      "[172]\ttrain-merror:0.195000\ttest-merror:0.251000\n",
      "[173]\ttrain-merror:0.195179\ttest-merror:0.251143\n",
      "[174]\ttrain-merror:0.194821\ttest-merror:0.251000\n",
      "[175]\ttrain-merror:0.194714\ttest-merror:0.251000\n",
      "[176]\ttrain-merror:0.194607\ttest-merror:0.249857\n",
      "[177]\ttrain-merror:0.194286\ttest-merror:0.250000\n",
      "[178]\ttrain-merror:0.194143\ttest-merror:0.249571\n",
      "[179]\ttrain-merror:0.193929\ttest-merror:0.249429\n",
      "[180]\ttrain-merror:0.193714\ttest-merror:0.249000\n",
      "[181]\ttrain-merror:0.193607\ttest-merror:0.248714\n",
      "[182]\ttrain-merror:0.193321\ttest-merror:0.248429\n",
      "[183]\ttrain-merror:0.193071\ttest-merror:0.248286\n",
      "[184]\ttrain-merror:0.193107\ttest-merror:0.248286\n",
      "[185]\ttrain-merror:0.193143\ttest-merror:0.247857\n",
      "[186]\ttrain-merror:0.192929\ttest-merror:0.247857\n",
      "[187]\ttrain-merror:0.192714\ttest-merror:0.247857\n",
      "[188]\ttrain-merror:0.192429\ttest-merror:0.247857\n",
      "[189]\ttrain-merror:0.192357\ttest-merror:0.247571\n",
      "[190]\ttrain-merror:0.192179\ttest-merror:0.246714\n",
      "[191]\ttrain-merror:0.192036\ttest-merror:0.246571\n",
      "[192]\ttrain-merror:0.191750\ttest-merror:0.246286\n",
      "[193]\ttrain-merror:0.191464\ttest-merror:0.245714\n",
      "[194]\ttrain-merror:0.191429\ttest-merror:0.245857\n",
      "[195]\ttrain-merror:0.191250\ttest-merror:0.246286\n",
      "[196]\ttrain-merror:0.190929\ttest-merror:0.246143\n",
      "[197]\ttrain-merror:0.190714\ttest-merror:0.246143\n",
      "[198]\ttrain-merror:0.190714\ttest-merror:0.246143\n",
      "[199]\ttrain-merror:0.190393\ttest-merror:0.246000\n",
      "[200]\ttrain-merror:0.190179\ttest-merror:0.245571\n",
      "[201]\ttrain-merror:0.190179\ttest-merror:0.245714\n",
      "[202]\ttrain-merror:0.189821\ttest-merror:0.245857\n",
      "[203]\ttrain-merror:0.189643\ttest-merror:0.245857\n",
      "[204]\ttrain-merror:0.189536\ttest-merror:0.245143\n",
      "[205]\ttrain-merror:0.189536\ttest-merror:0.244571\n",
      "[206]\ttrain-merror:0.189393\ttest-merror:0.244571\n",
      "[207]\ttrain-merror:0.188964\ttest-merror:0.244143\n",
      "[208]\ttrain-merror:0.188714\ttest-merror:0.244000\n",
      "[209]\ttrain-merror:0.188536\ttest-merror:0.243714\n",
      "[210]\ttrain-merror:0.188143\ttest-merror:0.243857\n",
      "[211]\ttrain-merror:0.188036\ttest-merror:0.243857\n",
      "[212]\ttrain-merror:0.187714\ttest-merror:0.244143\n",
      "[213]\ttrain-merror:0.187857\ttest-merror:0.243571\n",
      "[214]\ttrain-merror:0.187643\ttest-merror:0.243429\n",
      "[215]\ttrain-merror:0.187393\ttest-merror:0.243429\n",
      "[216]\ttrain-merror:0.187214\ttest-merror:0.243429\n",
      "[217]\ttrain-merror:0.187107\ttest-merror:0.243429\n",
      "[218]\ttrain-merror:0.187036\ttest-merror:0.243143\n",
      "[219]\ttrain-merror:0.186679\ttest-merror:0.243143\n",
      "[220]\ttrain-merror:0.186607\ttest-merror:0.243143\n",
      "[221]\ttrain-merror:0.186357\ttest-merror:0.242857\n",
      "[222]\ttrain-merror:0.186250\ttest-merror:0.242857\n",
      "[223]\ttrain-merror:0.185857\ttest-merror:0.242143\n",
      "[224]\ttrain-merror:0.185607\ttest-merror:0.242429\n",
      "[225]\ttrain-merror:0.185429\ttest-merror:0.242000\n",
      "[226]\ttrain-merror:0.185071\ttest-merror:0.241429\n",
      "[227]\ttrain-merror:0.185000\ttest-merror:0.241714\n",
      "[228]\ttrain-merror:0.184821\ttest-merror:0.241571\n",
      "[229]\ttrain-merror:0.184643\ttest-merror:0.241429\n",
      "[230]\ttrain-merror:0.184607\ttest-merror:0.241429\n",
      "[231]\ttrain-merror:0.184429\ttest-merror:0.241571\n",
      "[232]\ttrain-merror:0.184071\ttest-merror:0.241143\n",
      "[233]\ttrain-merror:0.183857\ttest-merror:0.241143\n",
      "[234]\ttrain-merror:0.183786\ttest-merror:0.241143\n",
      "[235]\ttrain-merror:0.183679\ttest-merror:0.240429\n",
      "[236]\ttrain-merror:0.183500\ttest-merror:0.240429\n",
      "[237]\ttrain-merror:0.183357\ttest-merror:0.240286\n",
      "[238]\ttrain-merror:0.183214\ttest-merror:0.240143\n",
      "[239]\ttrain-merror:0.183107\ttest-merror:0.240000\n",
      "[240]\ttrain-merror:0.182929\ttest-merror:0.240143\n",
      "[241]\ttrain-merror:0.182857\ttest-merror:0.240000\n",
      "[242]\ttrain-merror:0.182714\ttest-merror:0.239714\n",
      "[243]\ttrain-merror:0.182500\ttest-merror:0.239429\n",
      "[244]\ttrain-merror:0.182357\ttest-merror:0.239286\n",
      "[245]\ttrain-merror:0.182357\ttest-merror:0.238857\n",
      "[246]\ttrain-merror:0.182179\ttest-merror:0.239000\n",
      "[247]\ttrain-merror:0.182107\ttest-merror:0.238857\n",
      "[248]\ttrain-merror:0.182107\ttest-merror:0.239143\n",
      "[249]\ttrain-merror:0.181893\ttest-merror:0.238857\n",
      "[250]\ttrain-merror:0.181964\ttest-merror:0.238429\n",
      "[251]\ttrain-merror:0.181536\ttest-merror:0.238429\n",
      "[252]\ttrain-merror:0.181571\ttest-merror:0.238571\n",
      "[253]\ttrain-merror:0.181464\ttest-merror:0.238429\n",
      "[254]\ttrain-merror:0.181357\ttest-merror:0.238143\n",
      "[255]\ttrain-merror:0.181036\ttest-merror:0.238429\n",
      "[256]\ttrain-merror:0.181143\ttest-merror:0.238000\n",
      "[257]\ttrain-merror:0.181000\ttest-merror:0.238000\n",
      "[258]\ttrain-merror:0.180964\ttest-merror:0.238143\n",
      "[259]\ttrain-merror:0.180857\ttest-merror:0.237857\n",
      "[260]\ttrain-merror:0.180643\ttest-merror:0.238000\n",
      "[261]\ttrain-merror:0.180429\ttest-merror:0.237714\n",
      "[262]\ttrain-merror:0.180500\ttest-merror:0.237714\n",
      "[263]\ttrain-merror:0.180143\ttest-merror:0.237857\n",
      "[264]\ttrain-merror:0.180000\ttest-merror:0.238143\n",
      "[265]\ttrain-merror:0.180179\ttest-merror:0.237714\n",
      "[266]\ttrain-merror:0.179964\ttest-merror:0.237143\n",
      "[267]\ttrain-merror:0.179750\ttest-merror:0.237286\n",
      "[268]\ttrain-merror:0.179464\ttest-merror:0.237286\n",
      "[269]\ttrain-merror:0.179214\ttest-merror:0.237286\n",
      "[270]\ttrain-merror:0.179107\ttest-merror:0.237714\n",
      "[271]\ttrain-merror:0.179036\ttest-merror:0.237571\n",
      "[272]\ttrain-merror:0.178929\ttest-merror:0.237571\n",
      "[273]\ttrain-merror:0.178714\ttest-merror:0.237286\n",
      "[274]\ttrain-merror:0.178571\ttest-merror:0.237143\n",
      "[275]\ttrain-merror:0.178393\ttest-merror:0.237429\n",
      "[276]\ttrain-merror:0.178250\ttest-merror:0.237000\n",
      "[277]\ttrain-merror:0.178000\ttest-merror:0.237143\n",
      "[278]\ttrain-merror:0.177893\ttest-merror:0.237143\n",
      "[279]\ttrain-merror:0.177857\ttest-merror:0.237286\n",
      "[280]\ttrain-merror:0.177643\ttest-merror:0.237286\n",
      "[281]\ttrain-merror:0.177464\ttest-merror:0.237286\n",
      "[282]\ttrain-merror:0.177429\ttest-merror:0.237286\n",
      "[283]\ttrain-merror:0.177429\ttest-merror:0.237143\n",
      "[284]\ttrain-merror:0.177286\ttest-merror:0.237000\n",
      "[285]\ttrain-merror:0.177179\ttest-merror:0.236429\n",
      "[286]\ttrain-merror:0.176964\ttest-merror:0.236429\n",
      "[287]\ttrain-merror:0.177000\ttest-merror:0.235857\n",
      "[288]\ttrain-merror:0.176893\ttest-merror:0.235714\n",
      "[289]\ttrain-merror:0.176714\ttest-merror:0.235857\n",
      "[290]\ttrain-merror:0.176536\ttest-merror:0.235429\n",
      "[291]\ttrain-merror:0.176429\ttest-merror:0.235714\n",
      "[292]\ttrain-merror:0.176500\ttest-merror:0.235286\n",
      "[293]\ttrain-merror:0.176286\ttest-merror:0.235143\n",
      "[294]\ttrain-merror:0.176286\ttest-merror:0.235143\n",
      "[295]\ttrain-merror:0.176071\ttest-merror:0.235143\n",
      "[296]\ttrain-merror:0.176036\ttest-merror:0.235286\n",
      "[297]\ttrain-merror:0.175929\ttest-merror:0.235143\n",
      "[298]\ttrain-merror:0.175929\ttest-merror:0.234571\n",
      "[299]\ttrain-merror:0.175643\ttest-merror:0.234286\n",
      "[300]\ttrain-merror:0.175429\ttest-merror:0.234286\n",
      "[301]\ttrain-merror:0.175286\ttest-merror:0.234571\n",
      "[302]\ttrain-merror:0.174643\ttest-merror:0.234571\n",
      "[303]\ttrain-merror:0.174179\ttest-merror:0.234429\n",
      "[304]\ttrain-merror:0.174107\ttest-merror:0.234571\n",
      "[305]\ttrain-merror:0.173821\ttest-merror:0.234286\n",
      "[306]\ttrain-merror:0.173679\ttest-merror:0.234571\n",
      "[307]\ttrain-merror:0.173679\ttest-merror:0.234571\n",
      "[308]\ttrain-merror:0.173536\ttest-merror:0.234571\n",
      "[309]\ttrain-merror:0.173464\ttest-merror:0.234286\n",
      "[310]\ttrain-merror:0.173214\ttest-merror:0.233857\n",
      "[311]\ttrain-merror:0.173357\ttest-merror:0.234000\n",
      "[312]\ttrain-merror:0.173321\ttest-merror:0.233714\n",
      "[313]\ttrain-merror:0.173286\ttest-merror:0.234000\n",
      "[314]\ttrain-merror:0.173107\ttest-merror:0.233857\n",
      "[315]\ttrain-merror:0.172821\ttest-merror:0.233714\n",
      "[316]\ttrain-merror:0.172750\ttest-merror:0.234143\n",
      "[317]\ttrain-merror:0.172750\ttest-merror:0.233714\n",
      "[318]\ttrain-merror:0.172607\ttest-merror:0.233857\n",
      "[319]\ttrain-merror:0.172464\ttest-merror:0.233429\n",
      "[320]\ttrain-merror:0.172464\ttest-merror:0.233000\n",
      "[321]\ttrain-merror:0.172429\ttest-merror:0.233143\n",
      "[322]\ttrain-merror:0.172107\ttest-merror:0.233143\n",
      "[323]\ttrain-merror:0.172000\ttest-merror:0.233429\n",
      "[324]\ttrain-merror:0.171750\ttest-merror:0.233000\n",
      "[325]\ttrain-merror:0.171786\ttest-merror:0.232714\n",
      "[326]\ttrain-merror:0.171714\ttest-merror:0.232714\n",
      "[327]\ttrain-merror:0.171750\ttest-merror:0.232857\n",
      "[328]\ttrain-merror:0.171536\ttest-merror:0.232714\n",
      "[329]\ttrain-merror:0.171536\ttest-merror:0.232857\n",
      "[330]\ttrain-merror:0.171500\ttest-merror:0.233143\n",
      "[331]\ttrain-merror:0.171393\ttest-merror:0.232857\n",
      "[332]\ttrain-merror:0.171429\ttest-merror:0.233143\n",
      "[333]\ttrain-merror:0.171286\ttest-merror:0.233143\n",
      "[334]\ttrain-merror:0.171143\ttest-merror:0.232857\n",
      "[335]\ttrain-merror:0.171000\ttest-merror:0.232714\n",
      "[336]\ttrain-merror:0.171000\ttest-merror:0.232571\n",
      "[337]\ttrain-merror:0.170929\ttest-merror:0.232429\n",
      "[338]\ttrain-merror:0.170893\ttest-merror:0.232571\n",
      "[339]\ttrain-merror:0.170714\ttest-merror:0.232286\n",
      "[340]\ttrain-merror:0.170857\ttest-merror:0.232429\n",
      "[341]\ttrain-merror:0.170357\ttest-merror:0.232286\n",
      "[342]\ttrain-merror:0.170321\ttest-merror:0.232143\n",
      "[343]\ttrain-merror:0.170393\ttest-merror:0.232143\n",
      "[344]\ttrain-merror:0.170286\ttest-merror:0.231714\n",
      "[345]\ttrain-merror:0.170179\ttest-merror:0.231857\n",
      "[346]\ttrain-merror:0.170000\ttest-merror:0.231857\n",
      "[347]\ttrain-merror:0.169964\ttest-merror:0.231714\n",
      "[348]\ttrain-merror:0.169893\ttest-merror:0.232143\n",
      "[349]\ttrain-merror:0.169714\ttest-merror:0.232000\n",
      "[350]\ttrain-merror:0.169500\ttest-merror:0.231714\n",
      "[351]\ttrain-merror:0.169571\ttest-merror:0.231714\n",
      "[352]\ttrain-merror:0.169536\ttest-merror:0.231857\n",
      "[353]\ttrain-merror:0.169143\ttest-merror:0.231571\n",
      "[354]\ttrain-merror:0.168964\ttest-merror:0.231571\n",
      "[355]\ttrain-merror:0.168679\ttest-merror:0.231429\n",
      "[356]\ttrain-merror:0.168714\ttest-merror:0.231714\n",
      "[357]\ttrain-merror:0.168750\ttest-merror:0.231429\n",
      "[358]\ttrain-merror:0.168679\ttest-merror:0.231143\n",
      "[359]\ttrain-merror:0.168500\ttest-merror:0.231286\n",
      "[360]\ttrain-merror:0.168464\ttest-merror:0.231286\n",
      "[361]\ttrain-merror:0.168250\ttest-merror:0.231571\n",
      "[362]\ttrain-merror:0.168036\ttest-merror:0.231429\n",
      "[363]\ttrain-merror:0.168107\ttest-merror:0.231571\n",
      "[364]\ttrain-merror:0.168179\ttest-merror:0.231286\n",
      "[365]\ttrain-merror:0.168071\ttest-merror:0.231429\n",
      "[366]\ttrain-merror:0.168071\ttest-merror:0.231286\n",
      "[367]\ttrain-merror:0.167929\ttest-merror:0.231286\n",
      "[368]\ttrain-merror:0.167821\ttest-merror:0.231429\n",
      "[369]\ttrain-merror:0.167821\ttest-merror:0.231429\n",
      "[370]\ttrain-merror:0.167714\ttest-merror:0.231571\n",
      "[371]\ttrain-merror:0.167821\ttest-merror:0.231857\n",
      "[372]\ttrain-merror:0.167536\ttest-merror:0.231429\n",
      "[373]\ttrain-merror:0.167286\ttest-merror:0.231429\n",
      "[374]\ttrain-merror:0.167286\ttest-merror:0.231000\n",
      "[375]\ttrain-merror:0.167071\ttest-merror:0.231143\n",
      "[376]\ttrain-merror:0.167107\ttest-merror:0.231000\n",
      "[377]\ttrain-merror:0.166929\ttest-merror:0.230571\n",
      "[378]\ttrain-merror:0.166857\ttest-merror:0.230714\n",
      "[379]\ttrain-merror:0.166786\ttest-merror:0.230429\n",
      "[380]\ttrain-merror:0.166786\ttest-merror:0.230571\n",
      "[381]\ttrain-merror:0.166571\ttest-merror:0.230429\n",
      "[382]\ttrain-merror:0.166571\ttest-merror:0.230429\n",
      "[383]\ttrain-merror:0.166500\ttest-merror:0.230429\n",
      "[384]\ttrain-merror:0.166321\ttest-merror:0.230571\n",
      "[385]\ttrain-merror:0.166321\ttest-merror:0.230429\n",
      "[386]\ttrain-merror:0.166429\ttest-merror:0.230429\n",
      "[387]\ttrain-merror:0.166464\ttest-merror:0.230286\n",
      "[388]\ttrain-merror:0.166357\ttest-merror:0.230857\n",
      "[389]\ttrain-merror:0.166357\ttest-merror:0.230571\n",
      "[390]\ttrain-merror:0.166143\ttest-merror:0.230571\n",
      "[391]\ttrain-merror:0.166179\ttest-merror:0.230714\n",
      "[392]\ttrain-merror:0.166179\ttest-merror:0.230571\n",
      "[393]\ttrain-merror:0.166036\ttest-merror:0.230571\n",
      "[394]\ttrain-merror:0.166036\ttest-merror:0.230571\n",
      "[395]\ttrain-merror:0.165929\ttest-merror:0.230571\n",
      "[396]\ttrain-merror:0.165929\ttest-merror:0.230429\n",
      "[397]\ttrain-merror:0.165857\ttest-merror:0.230286\n",
      "[398]\ttrain-merror:0.165714\ttest-merror:0.229857\n",
      "[399]\ttrain-merror:0.165714\ttest-merror:0.230000\n",
      "[400]\ttrain-merror:0.165714\ttest-merror:0.229857\n",
      "[401]\ttrain-merror:0.165429\ttest-merror:0.229714\n",
      "[402]\ttrain-merror:0.165321\ttest-merror:0.229429\n",
      "[403]\ttrain-merror:0.165286\ttest-merror:0.229000\n",
      "[404]\ttrain-merror:0.165143\ttest-merror:0.229143\n",
      "[405]\ttrain-merror:0.165107\ttest-merror:0.229143\n",
      "[406]\ttrain-merror:0.164643\ttest-merror:0.229429\n",
      "[407]\ttrain-merror:0.164857\ttest-merror:0.229143\n",
      "[408]\ttrain-merror:0.164571\ttest-merror:0.229286\n",
      "[409]\ttrain-merror:0.164536\ttest-merror:0.229143\n",
      "[410]\ttrain-merror:0.164500\ttest-merror:0.229000\n",
      "[411]\ttrain-merror:0.164429\ttest-merror:0.228714\n",
      "[412]\ttrain-merror:0.164607\ttest-merror:0.229571\n",
      "[413]\ttrain-merror:0.164571\ttest-merror:0.229429\n",
      "[414]\ttrain-merror:0.164500\ttest-merror:0.229429\n",
      "[415]\ttrain-merror:0.164143\ttest-merror:0.229571\n",
      "[416]\ttrain-merror:0.164179\ttest-merror:0.229286\n",
      "[417]\ttrain-merror:0.164071\ttest-merror:0.229143\n",
      "[418]\ttrain-merror:0.164143\ttest-merror:0.229286\n",
      "[419]\ttrain-merror:0.164107\ttest-merror:0.229286\n",
      "[420]\ttrain-merror:0.163964\ttest-merror:0.229143\n",
      "[421]\ttrain-merror:0.164036\ttest-merror:0.229286\n",
      "[422]\ttrain-merror:0.164000\ttest-merror:0.229000\n",
      "[423]\ttrain-merror:0.164036\ttest-merror:0.229000\n",
      "[424]\ttrain-merror:0.163857\ttest-merror:0.229000\n",
      "[425]\ttrain-merror:0.163857\ttest-merror:0.229143\n",
      "[426]\ttrain-merror:0.163821\ttest-merror:0.229286\n",
      "[427]\ttrain-merror:0.163857\ttest-merror:0.228857\n",
      "[428]\ttrain-merror:0.163679\ttest-merror:0.228714\n",
      "[429]\ttrain-merror:0.163536\ttest-merror:0.228714\n",
      "[430]\ttrain-merror:0.163321\ttest-merror:0.228714\n",
      "[431]\ttrain-merror:0.163393\ttest-merror:0.229000\n",
      "[432]\ttrain-merror:0.163250\ttest-merror:0.229286\n",
      "[433]\ttrain-merror:0.163179\ttest-merror:0.229429\n",
      "[434]\ttrain-merror:0.163036\ttest-merror:0.229714\n",
      "[435]\ttrain-merror:0.162893\ttest-merror:0.228857\n",
      "[436]\ttrain-merror:0.162679\ttest-merror:0.228714\n",
      "[437]\ttrain-merror:0.162714\ttest-merror:0.229143\n",
      "[438]\ttrain-merror:0.162714\ttest-merror:0.228714\n",
      "[439]\ttrain-merror:0.162643\ttest-merror:0.228857\n",
      "[440]\ttrain-merror:0.162679\ttest-merror:0.228571\n",
      "[441]\ttrain-merror:0.162679\ttest-merror:0.228857\n",
      "[442]\ttrain-merror:0.162571\ttest-merror:0.229000\n",
      "[443]\ttrain-merror:0.162429\ttest-merror:0.228857\n",
      "[444]\ttrain-merror:0.162250\ttest-merror:0.229000\n",
      "[445]\ttrain-merror:0.162214\ttest-merror:0.228857\n",
      "[446]\ttrain-merror:0.162250\ttest-merror:0.229143\n",
      "[447]\ttrain-merror:0.162071\ttest-merror:0.228857\n",
      "[448]\ttrain-merror:0.162179\ttest-merror:0.228857\n",
      "[449]\ttrain-merror:0.162071\ttest-merror:0.228714\n",
      "[450]\ttrain-merror:0.162000\ttest-merror:0.228714\n",
      "[451]\ttrain-merror:0.161893\ttest-merror:0.228857\n",
      "[452]\ttrain-merror:0.161786\ttest-merror:0.228571\n",
      "[453]\ttrain-merror:0.161607\ttest-merror:0.228714\n",
      "[454]\ttrain-merror:0.161607\ttest-merror:0.228429\n",
      "[455]\ttrain-merror:0.161500\ttest-merror:0.228286\n",
      "[456]\ttrain-merror:0.161464\ttest-merror:0.229000\n",
      "[457]\ttrain-merror:0.161321\ttest-merror:0.229000\n",
      "[458]\ttrain-merror:0.161250\ttest-merror:0.228857\n",
      "[459]\ttrain-merror:0.161214\ttest-merror:0.229000\n",
      "[460]\ttrain-merror:0.161179\ttest-merror:0.228857\n",
      "[461]\ttrain-merror:0.161107\ttest-merror:0.228857\n",
      "[462]\ttrain-merror:0.161214\ttest-merror:0.228857\n",
      "[463]\ttrain-merror:0.161321\ttest-merror:0.228571\n",
      "[464]\ttrain-merror:0.161179\ttest-merror:0.228714\n",
      "[465]\ttrain-merror:0.161179\ttest-merror:0.228714\n",
      "[466]\ttrain-merror:0.161250\ttest-merror:0.228571\n",
      "[467]\ttrain-merror:0.161214\ttest-merror:0.228714\n",
      "[468]\ttrain-merror:0.161214\ttest-merror:0.228714\n",
      "[469]\ttrain-merror:0.161179\ttest-merror:0.228714\n",
      "[470]\ttrain-merror:0.161214\ttest-merror:0.228857\n",
      "[471]\ttrain-merror:0.161107\ttest-merror:0.228571\n",
      "[472]\ttrain-merror:0.160964\ttest-merror:0.228286\n",
      "[473]\ttrain-merror:0.160893\ttest-merror:0.228286\n",
      "[474]\ttrain-merror:0.160821\ttest-merror:0.228429\n",
      "[475]\ttrain-merror:0.160643\ttest-merror:0.228286\n",
      "[476]\ttrain-merror:0.160571\ttest-merror:0.228429\n",
      "[477]\ttrain-merror:0.160607\ttest-merror:0.228571\n",
      "[478]\ttrain-merror:0.160393\ttest-merror:0.228571\n",
      "[479]\ttrain-merror:0.160393\ttest-merror:0.228571\n",
      "[480]\ttrain-merror:0.160429\ttest-merror:0.228714\n",
      "[481]\ttrain-merror:0.160286\ttest-merror:0.228571\n",
      "[482]\ttrain-merror:0.160214\ttest-merror:0.228286\n",
      "[483]\ttrain-merror:0.160179\ttest-merror:0.228286\n",
      "[484]\ttrain-merror:0.160179\ttest-merror:0.228143\n",
      "[485]\ttrain-merror:0.160179\ttest-merror:0.228143\n",
      "[486]\ttrain-merror:0.160036\ttest-merror:0.228286\n",
      "[487]\ttrain-merror:0.159964\ttest-merror:0.228286\n",
      "[488]\ttrain-merror:0.159964\ttest-merror:0.228286\n",
      "[489]\ttrain-merror:0.159857\ttest-merror:0.228143\n",
      "[490]\ttrain-merror:0.159857\ttest-merror:0.228286\n",
      "[491]\ttrain-merror:0.159821\ttest-merror:0.228286\n",
      "[492]\ttrain-merror:0.159857\ttest-merror:0.228000\n",
      "[493]\ttrain-merror:0.159821\ttest-merror:0.228000\n",
      "[494]\ttrain-merror:0.159893\ttest-merror:0.228000\n",
      "[495]\ttrain-merror:0.159643\ttest-merror:0.227857\n",
      "[496]\ttrain-merror:0.159571\ttest-merror:0.227571\n",
      "[497]\ttrain-merror:0.159464\ttest-merror:0.227429\n",
      "[498]\ttrain-merror:0.159500\ttest-merror:0.227286\n",
      "[499]\ttrain-merror:0.159357\ttest-merror:0.227286\n",
      "[500]\ttrain-merror:0.159393\ttest-merror:0.227286\n",
      "[501]\ttrain-merror:0.159393\ttest-merror:0.227571\n",
      "[502]\ttrain-merror:0.159321\ttest-merror:0.227286\n",
      "[503]\ttrain-merror:0.159286\ttest-merror:0.227429\n",
      "[504]\ttrain-merror:0.159250\ttest-merror:0.227286\n",
      "[505]\ttrain-merror:0.159179\ttest-merror:0.227429\n",
      "[506]\ttrain-merror:0.159107\ttest-merror:0.227286\n",
      "[507]\ttrain-merror:0.159143\ttest-merror:0.227286\n",
      "[508]\ttrain-merror:0.159000\ttest-merror:0.227143\n",
      "[509]\ttrain-merror:0.158929\ttest-merror:0.227286\n",
      "[510]\ttrain-merror:0.158750\ttest-merror:0.227571\n",
      "[511]\ttrain-merror:0.158750\ttest-merror:0.227571\n",
      "[512]\ttrain-merror:0.158536\ttest-merror:0.227286\n",
      "[513]\ttrain-merror:0.158643\ttest-merror:0.227286\n",
      "[514]\ttrain-merror:0.158536\ttest-merror:0.227000\n",
      "[515]\ttrain-merror:0.158464\ttest-merror:0.227000\n",
      "[516]\ttrain-merror:0.158393\ttest-merror:0.226714\n",
      "[517]\ttrain-merror:0.158286\ttest-merror:0.227143\n",
      "[518]\ttrain-merror:0.158321\ttest-merror:0.227286\n",
      "[519]\ttrain-merror:0.158143\ttest-merror:0.227429\n",
      "[520]\ttrain-merror:0.158071\ttest-merror:0.227571\n",
      "[521]\ttrain-merror:0.157929\ttest-merror:0.227571\n",
      "[522]\ttrain-merror:0.157929\ttest-merror:0.227571\n",
      "[523]\ttrain-merror:0.157893\ttest-merror:0.227286\n",
      "[524]\ttrain-merror:0.157929\ttest-merror:0.227429\n",
      "[525]\ttrain-merror:0.157857\ttest-merror:0.227429\n",
      "[526]\ttrain-merror:0.157679\ttest-merror:0.227571\n",
      "[527]\ttrain-merror:0.157607\ttest-merror:0.227143\n",
      "[528]\ttrain-merror:0.157750\ttest-merror:0.227429\n",
      "[529]\ttrain-merror:0.157643\ttest-merror:0.227000\n",
      "[530]\ttrain-merror:0.157714\ttest-merror:0.227000\n",
      "[531]\ttrain-merror:0.157786\ttest-merror:0.227000\n",
      "[532]\ttrain-merror:0.157750\ttest-merror:0.227000\n",
      "[533]\ttrain-merror:0.157643\ttest-merror:0.226571\n",
      "[534]\ttrain-merror:0.157607\ttest-merror:0.226286\n",
      "[535]\ttrain-merror:0.157643\ttest-merror:0.226143\n",
      "[536]\ttrain-merror:0.157571\ttest-merror:0.226143\n",
      "[537]\ttrain-merror:0.157464\ttest-merror:0.226143\n",
      "[538]\ttrain-merror:0.157393\ttest-merror:0.225857\n",
      "[539]\ttrain-merror:0.157321\ttest-merror:0.226000\n",
      "[540]\ttrain-merror:0.157393\ttest-merror:0.226429\n",
      "[541]\ttrain-merror:0.157464\ttest-merror:0.226429\n",
      "[542]\ttrain-merror:0.157250\ttest-merror:0.226714\n",
      "[543]\ttrain-merror:0.157321\ttest-merror:0.226286\n",
      "[544]\ttrain-merror:0.157179\ttest-merror:0.226143\n",
      "[545]\ttrain-merror:0.157107\ttest-merror:0.226571\n",
      "[546]\ttrain-merror:0.157071\ttest-merror:0.226429\n",
      "[547]\ttrain-merror:0.157071\ttest-merror:0.226143\n",
      "[548]\ttrain-merror:0.157000\ttest-merror:0.225714\n",
      "[549]\ttrain-merror:0.157036\ttest-merror:0.225857\n",
      "[550]\ttrain-merror:0.157036\ttest-merror:0.226000\n",
      "[551]\ttrain-merror:0.156857\ttest-merror:0.226000\n",
      "[552]\ttrain-merror:0.156714\ttest-merror:0.225571\n",
      "[553]\ttrain-merror:0.156714\ttest-merror:0.225286\n",
      "[554]\ttrain-merror:0.156643\ttest-merror:0.225571\n",
      "[555]\ttrain-merror:0.156607\ttest-merror:0.225429\n",
      "[556]\ttrain-merror:0.156643\ttest-merror:0.225571\n",
      "[557]\ttrain-merror:0.156643\ttest-merror:0.225714\n",
      "[558]\ttrain-merror:0.156571\ttest-merror:0.225571\n",
      "[559]\ttrain-merror:0.156500\ttest-merror:0.226000\n",
      "[560]\ttrain-merror:0.156286\ttest-merror:0.226000\n",
      "[561]\ttrain-merror:0.156321\ttest-merror:0.225714\n",
      "[562]\ttrain-merror:0.156321\ttest-merror:0.225857\n",
      "[563]\ttrain-merror:0.156357\ttest-merror:0.225857\n",
      "[564]\ttrain-merror:0.156429\ttest-merror:0.226143\n",
      "[565]\ttrain-merror:0.156464\ttest-merror:0.226000\n",
      "[566]\ttrain-merror:0.156286\ttest-merror:0.225857\n",
      "[567]\ttrain-merror:0.156214\ttest-merror:0.225857\n",
      "[568]\ttrain-merror:0.156214\ttest-merror:0.226000\n",
      "[569]\ttrain-merror:0.156179\ttest-merror:0.226286\n",
      "[570]\ttrain-merror:0.156250\ttest-merror:0.226000\n",
      "[571]\ttrain-merror:0.156250\ttest-merror:0.226000\n",
      "[572]\ttrain-merror:0.156250\ttest-merror:0.226000\n",
      "[573]\ttrain-merror:0.156179\ttest-merror:0.225714\n",
      "[574]\ttrain-merror:0.156214\ttest-merror:0.225429\n",
      "[575]\ttrain-merror:0.156000\ttest-merror:0.225429\n",
      "[576]\ttrain-merror:0.156000\ttest-merror:0.225143\n",
      "[577]\ttrain-merror:0.156036\ttest-merror:0.225286\n",
      "[578]\ttrain-merror:0.155964\ttest-merror:0.225286\n",
      "[579]\ttrain-merror:0.155964\ttest-merror:0.225286\n",
      "[580]\ttrain-merror:0.155964\ttest-merror:0.225571\n",
      "[581]\ttrain-merror:0.155857\ttest-merror:0.225429\n",
      "[582]\ttrain-merror:0.155786\ttest-merror:0.225286\n",
      "[583]\ttrain-merror:0.155821\ttest-merror:0.225286\n",
      "[584]\ttrain-merror:0.155750\ttest-merror:0.225286\n",
      "[585]\ttrain-merror:0.155786\ttest-merror:0.225429\n",
      "[586]\ttrain-merror:0.155679\ttest-merror:0.224857\n",
      "[587]\ttrain-merror:0.155679\ttest-merror:0.224857\n",
      "[588]\ttrain-merror:0.155500\ttest-merror:0.224857\n",
      "[589]\ttrain-merror:0.155464\ttest-merror:0.224857\n",
      "[590]\ttrain-merror:0.155429\ttest-merror:0.224714\n",
      "[591]\ttrain-merror:0.155500\ttest-merror:0.224714\n",
      "[592]\ttrain-merror:0.155464\ttest-merror:0.224429\n",
      "[593]\ttrain-merror:0.155464\ttest-merror:0.224429\n",
      "[594]\ttrain-merror:0.155464\ttest-merror:0.224143\n",
      "[595]\ttrain-merror:0.155393\ttest-merror:0.224000\n",
      "[596]\ttrain-merror:0.155357\ttest-merror:0.224143\n",
      "[597]\ttrain-merror:0.155357\ttest-merror:0.224143\n",
      "[598]\ttrain-merror:0.155321\ttest-merror:0.224000\n",
      "[599]\ttrain-merror:0.155357\ttest-merror:0.224000\n",
      "[600]\ttrain-merror:0.155250\ttest-merror:0.223857\n",
      "[601]\ttrain-merror:0.155250\ttest-merror:0.223857\n",
      "[602]\ttrain-merror:0.155143\ttest-merror:0.223857\n",
      "[603]\ttrain-merror:0.155071\ttest-merror:0.223857\n",
      "[604]\ttrain-merror:0.155214\ttest-merror:0.224000\n",
      "[605]\ttrain-merror:0.155071\ttest-merror:0.224143\n",
      "[606]\ttrain-merror:0.155000\ttest-merror:0.224143\n",
      "[607]\ttrain-merror:0.155000\ttest-merror:0.224143\n",
      "[608]\ttrain-merror:0.155071\ttest-merror:0.224000\n",
      "[609]\ttrain-merror:0.154929\ttest-merror:0.224143\n",
      "[610]\ttrain-merror:0.154964\ttest-merror:0.223857\n",
      "[611]\ttrain-merror:0.154893\ttest-merror:0.223714\n",
      "[612]\ttrain-merror:0.154857\ttest-merror:0.223857\n",
      "[613]\ttrain-merror:0.154821\ttest-merror:0.224143\n",
      "[614]\ttrain-merror:0.154964\ttest-merror:0.223714\n",
      "[615]\ttrain-merror:0.154893\ttest-merror:0.223571\n",
      "[616]\ttrain-merror:0.154786\ttest-merror:0.223286\n",
      "[617]\ttrain-merror:0.154607\ttest-merror:0.223571\n",
      "[618]\ttrain-merror:0.154643\ttest-merror:0.223143\n",
      "[619]\ttrain-merror:0.154679\ttest-merror:0.223000\n",
      "[620]\ttrain-merror:0.154607\ttest-merror:0.222857\n",
      "[621]\ttrain-merror:0.154679\ttest-merror:0.222857\n",
      "[622]\ttrain-merror:0.154571\ttest-merror:0.222857\n",
      "[623]\ttrain-merror:0.154571\ttest-merror:0.223000\n",
      "[624]\ttrain-merror:0.154607\ttest-merror:0.223000\n",
      "[625]\ttrain-merror:0.154500\ttest-merror:0.223286\n",
      "[626]\ttrain-merror:0.154464\ttest-merror:0.223571\n",
      "[627]\ttrain-merror:0.154393\ttest-merror:0.223429\n",
      "[628]\ttrain-merror:0.154393\ttest-merror:0.223429\n",
      "[629]\ttrain-merror:0.154500\ttest-merror:0.223429\n",
      "[630]\ttrain-merror:0.154536\ttest-merror:0.223429\n",
      "[631]\ttrain-merror:0.154500\ttest-merror:0.223429\n",
      "[632]\ttrain-merror:0.154536\ttest-merror:0.223429\n",
      "[633]\ttrain-merror:0.154536\ttest-merror:0.223429\n",
      "[634]\ttrain-merror:0.154536\ttest-merror:0.223571\n",
      "[635]\ttrain-merror:0.154500\ttest-merror:0.223571\n",
      "[636]\ttrain-merror:0.154393\ttest-merror:0.223429\n",
      "[637]\ttrain-merror:0.154536\ttest-merror:0.223286\n",
      "[638]\ttrain-merror:0.154464\ttest-merror:0.223143\n",
      "[639]\ttrain-merror:0.154357\ttest-merror:0.223429\n",
      "[640]\ttrain-merror:0.154286\ttest-merror:0.223571\n",
      "[641]\ttrain-merror:0.154286\ttest-merror:0.223571\n",
      "[642]\ttrain-merror:0.154286\ttest-merror:0.223571\n",
      "[643]\ttrain-merror:0.154179\ttest-merror:0.223286\n",
      "[644]\ttrain-merror:0.154214\ttest-merror:0.223286\n",
      "[645]\ttrain-merror:0.154179\ttest-merror:0.223286\n",
      "[646]\ttrain-merror:0.154250\ttest-merror:0.223429\n",
      "[647]\ttrain-merror:0.154214\ttest-merror:0.223429\n",
      "[648]\ttrain-merror:0.154286\ttest-merror:0.223286\n",
      "[649]\ttrain-merror:0.154250\ttest-merror:0.223429\n",
      "[650]\ttrain-merror:0.154214\ttest-merror:0.223429\n",
      "[651]\ttrain-merror:0.154000\ttest-merror:0.223429\n",
      "[652]\ttrain-merror:0.153964\ttest-merror:0.223143\n",
      "[653]\ttrain-merror:0.153786\ttest-merror:0.223286\n",
      "[654]\ttrain-merror:0.153750\ttest-merror:0.222857\n",
      "[655]\ttrain-merror:0.153857\ttest-merror:0.222857\n",
      "[656]\ttrain-merror:0.153893\ttest-merror:0.223000\n",
      "[657]\ttrain-merror:0.153857\ttest-merror:0.223143\n",
      "[658]\ttrain-merror:0.153714\ttest-merror:0.223000\n",
      "[659]\ttrain-merror:0.153750\ttest-merror:0.223000\n",
      "[660]\ttrain-merror:0.153786\ttest-merror:0.223000\n",
      "[661]\ttrain-merror:0.153786\ttest-merror:0.222857\n",
      "[662]\ttrain-merror:0.153643\ttest-merror:0.222857\n",
      "[663]\ttrain-merror:0.153536\ttest-merror:0.222714\n",
      "[664]\ttrain-merror:0.153679\ttest-merror:0.222714\n",
      "[665]\ttrain-merror:0.153679\ttest-merror:0.222714\n",
      "[666]\ttrain-merror:0.153750\ttest-merror:0.222714\n",
      "[667]\ttrain-merror:0.153714\ttest-merror:0.222714\n",
      "[668]\ttrain-merror:0.153679\ttest-merror:0.222714\n",
      "[669]\ttrain-merror:0.153571\ttest-merror:0.222714\n",
      "[670]\ttrain-merror:0.153536\ttest-merror:0.222571\n",
      "[671]\ttrain-merror:0.153393\ttest-merror:0.222429\n",
      "[672]\ttrain-merror:0.153393\ttest-merror:0.222714\n",
      "[673]\ttrain-merror:0.153464\ttest-merror:0.222714\n",
      "[674]\ttrain-merror:0.153429\ttest-merror:0.222714\n",
      "[675]\ttrain-merror:0.153500\ttest-merror:0.222714\n",
      "[676]\ttrain-merror:0.153500\ttest-merror:0.222714\n",
      "[677]\ttrain-merror:0.153429\ttest-merror:0.222714\n",
      "[678]\ttrain-merror:0.153500\ttest-merror:0.222714\n",
      "[679]\ttrain-merror:0.153464\ttest-merror:0.222571\n",
      "[680]\ttrain-merror:0.153393\ttest-merror:0.222571\n",
      "[681]\ttrain-merror:0.153500\ttest-merror:0.222571\n",
      "[682]\ttrain-merror:0.153429\ttest-merror:0.222857\n",
      "[683]\ttrain-merror:0.153321\ttest-merror:0.222714\n",
      "[684]\ttrain-merror:0.153393\ttest-merror:0.222571\n",
      "[685]\ttrain-merror:0.153429\ttest-merror:0.222571\n",
      "[686]\ttrain-merror:0.153357\ttest-merror:0.222286\n",
      "[687]\ttrain-merror:0.153429\ttest-merror:0.222286\n",
      "[688]\ttrain-merror:0.153393\ttest-merror:0.222429\n",
      "[689]\ttrain-merror:0.153429\ttest-merror:0.222286\n",
      "[690]\ttrain-merror:0.153464\ttest-merror:0.222429\n",
      "[691]\ttrain-merror:0.153214\ttest-merror:0.222571\n",
      "[692]\ttrain-merror:0.153286\ttest-merror:0.222714\n",
      "[693]\ttrain-merror:0.153179\ttest-merror:0.222714\n",
      "[694]\ttrain-merror:0.153250\ttest-merror:0.222857\n",
      "[695]\ttrain-merror:0.153214\ttest-merror:0.223000\n",
      "[696]\ttrain-merror:0.153214\ttest-merror:0.223143\n",
      "[697]\ttrain-merror:0.153179\ttest-merror:0.223143\n",
      "[698]\ttrain-merror:0.153214\ttest-merror:0.223000\n",
      "[699]\ttrain-merror:0.153143\ttest-merror:0.222857\n",
      "[700]\ttrain-merror:0.153071\ttest-merror:0.223000\n",
      "[701]\ttrain-merror:0.153071\ttest-merror:0.223286\n",
      "[702]\ttrain-merror:0.153000\ttest-merror:0.223143\n",
      "[703]\ttrain-merror:0.153071\ttest-merror:0.223000\n",
      "[704]\ttrain-merror:0.153036\ttest-merror:0.223000\n",
      "[705]\ttrain-merror:0.153107\ttest-merror:0.223143\n",
      "[706]\ttrain-merror:0.153000\ttest-merror:0.222857\n",
      "[707]\ttrain-merror:0.153000\ttest-merror:0.222714\n",
      "[708]\ttrain-merror:0.152964\ttest-merror:0.222857\n",
      "[709]\ttrain-merror:0.152893\ttest-merror:0.222714\n",
      "[710]\ttrain-merror:0.152857\ttest-merror:0.222429\n",
      "[711]\ttrain-merror:0.152929\ttest-merror:0.222571\n",
      "[712]\ttrain-merror:0.152821\ttest-merror:0.222571\n",
      "[713]\ttrain-merror:0.152750\ttest-merror:0.222571\n",
      "[714]\ttrain-merror:0.152679\ttest-merror:0.222571\n",
      "[715]\ttrain-merror:0.152750\ttest-merror:0.222286\n",
      "[716]\ttrain-merror:0.152750\ttest-merror:0.222286\n",
      "[717]\ttrain-merror:0.152714\ttest-merror:0.222429\n",
      "[718]\ttrain-merror:0.152643\ttest-merror:0.222429\n",
      "[719]\ttrain-merror:0.152643\ttest-merror:0.222286\n",
      "[720]\ttrain-merror:0.152536\ttest-merror:0.222429\n",
      "[721]\ttrain-merror:0.152464\ttest-merror:0.222286\n",
      "[722]\ttrain-merror:0.152464\ttest-merror:0.222143\n",
      "[723]\ttrain-merror:0.152464\ttest-merror:0.222286\n",
      "[724]\ttrain-merror:0.152500\ttest-merror:0.222286\n",
      "[725]\ttrain-merror:0.152286\ttest-merror:0.222429\n",
      "[726]\ttrain-merror:0.152393\ttest-merror:0.222286\n",
      "[727]\ttrain-merror:0.152464\ttest-merror:0.222571\n",
      "[728]\ttrain-merror:0.152500\ttest-merror:0.222714\n",
      "[729]\ttrain-merror:0.152500\ttest-merror:0.222286\n",
      "[730]\ttrain-merror:0.152500\ttest-merror:0.222429\n",
      "[731]\ttrain-merror:0.152464\ttest-merror:0.222286\n",
      "[732]\ttrain-merror:0.152393\ttest-merror:0.222571\n",
      "[733]\ttrain-merror:0.152357\ttest-merror:0.222571\n",
      "[734]\ttrain-merror:0.152393\ttest-merror:0.222429\n",
      "[735]\ttrain-merror:0.152464\ttest-merror:0.222143\n",
      "[736]\ttrain-merror:0.152429\ttest-merror:0.222286\n",
      "[737]\ttrain-merror:0.152357\ttest-merror:0.222429\n",
      "[738]\ttrain-merror:0.152286\ttest-merror:0.222429\n",
      "[739]\ttrain-merror:0.152321\ttest-merror:0.222429\n",
      "[740]\ttrain-merror:0.152214\ttest-merror:0.222286\n",
      "[741]\ttrain-merror:0.152179\ttest-merror:0.222143\n",
      "[742]\ttrain-merror:0.152107\ttest-merror:0.222000\n",
      "[743]\ttrain-merror:0.152071\ttest-merror:0.222000\n",
      "[744]\ttrain-merror:0.152036\ttest-merror:0.222000\n",
      "[745]\ttrain-merror:0.152000\ttest-merror:0.222000\n",
      "[746]\ttrain-merror:0.152071\ttest-merror:0.221857\n",
      "[747]\ttrain-merror:0.151964\ttest-merror:0.221857\n",
      "[748]\ttrain-merror:0.151929\ttest-merror:0.221714\n",
      "[749]\ttrain-merror:0.151893\ttest-merror:0.221714\n",
      "[750]\ttrain-merror:0.151929\ttest-merror:0.221714\n",
      "[751]\ttrain-merror:0.151821\ttest-merror:0.222000\n",
      "[752]\ttrain-merror:0.151821\ttest-merror:0.222143\n",
      "[753]\ttrain-merror:0.151643\ttest-merror:0.222429\n",
      "[754]\ttrain-merror:0.151643\ttest-merror:0.222286\n",
      "[755]\ttrain-merror:0.151679\ttest-merror:0.222286\n",
      "[756]\ttrain-merror:0.151679\ttest-merror:0.221857\n",
      "[757]\ttrain-merror:0.151607\ttest-merror:0.221714\n",
      "[758]\ttrain-merror:0.151571\ttest-merror:0.221714\n",
      "[759]\ttrain-merror:0.151536\ttest-merror:0.221857\n",
      "[760]\ttrain-merror:0.151536\ttest-merror:0.221714\n",
      "[761]\ttrain-merror:0.151643\ttest-merror:0.221857\n",
      "[762]\ttrain-merror:0.151500\ttest-merror:0.221857\n",
      "[763]\ttrain-merror:0.151321\ttest-merror:0.221857\n",
      "[764]\ttrain-merror:0.151357\ttest-merror:0.222000\n",
      "[765]\ttrain-merror:0.151357\ttest-merror:0.222000\n",
      "[766]\ttrain-merror:0.151286\ttest-merror:0.222000\n",
      "[767]\ttrain-merror:0.151321\ttest-merror:0.222000\n",
      "[768]\ttrain-merror:0.151321\ttest-merror:0.222000\n",
      "[769]\ttrain-merror:0.151393\ttest-merror:0.222000\n",
      "[770]\ttrain-merror:0.151357\ttest-merror:0.222000\n",
      "[771]\ttrain-merror:0.151357\ttest-merror:0.222000\n",
      "[772]\ttrain-merror:0.151393\ttest-merror:0.221714\n",
      "[773]\ttrain-merror:0.151429\ttest-merror:0.221714\n",
      "[774]\ttrain-merror:0.151429\ttest-merror:0.221571\n",
      "[775]\ttrain-merror:0.151429\ttest-merror:0.221429\n",
      "[776]\ttrain-merror:0.151429\ttest-merror:0.221714\n",
      "[777]\ttrain-merror:0.151357\ttest-merror:0.221714\n",
      "[778]\ttrain-merror:0.151321\ttest-merror:0.221714\n",
      "[779]\ttrain-merror:0.151393\ttest-merror:0.221571\n",
      "[780]\ttrain-merror:0.151393\ttest-merror:0.221571\n",
      "[781]\ttrain-merror:0.151429\ttest-merror:0.221571\n",
      "[782]\ttrain-merror:0.151393\ttest-merror:0.221571\n",
      "[783]\ttrain-merror:0.151357\ttest-merror:0.221571\n",
      "[784]\ttrain-merror:0.151286\ttest-merror:0.221429\n",
      "[785]\ttrain-merror:0.151286\ttest-merror:0.221429\n",
      "[786]\ttrain-merror:0.151179\ttest-merror:0.221429\n",
      "[787]\ttrain-merror:0.151214\ttest-merror:0.221429\n",
      "[788]\ttrain-merror:0.151286\ttest-merror:0.221429\n",
      "[789]\ttrain-merror:0.151321\ttest-merror:0.221286\n",
      "[790]\ttrain-merror:0.151286\ttest-merror:0.221571\n",
      "[791]\ttrain-merror:0.151179\ttest-merror:0.221571\n",
      "[792]\ttrain-merror:0.151214\ttest-merror:0.221429\n",
      "[793]\ttrain-merror:0.151179\ttest-merror:0.221429\n",
      "[794]\ttrain-merror:0.151179\ttest-merror:0.221429\n",
      "[795]\ttrain-merror:0.151214\ttest-merror:0.221429\n",
      "[796]\ttrain-merror:0.151143\ttest-merror:0.221429\n",
      "[797]\ttrain-merror:0.151071\ttest-merror:0.221286\n",
      "[798]\ttrain-merror:0.151000\ttest-merror:0.221143\n",
      "[799]\ttrain-merror:0.151000\ttest-merror:0.221000\n",
      "[800]\ttrain-merror:0.150821\ttest-merror:0.221143\n",
      "[801]\ttrain-merror:0.150893\ttest-merror:0.220857\n",
      "[802]\ttrain-merror:0.150893\ttest-merror:0.221000\n",
      "[803]\ttrain-merror:0.150893\ttest-merror:0.221000\n",
      "[804]\ttrain-merror:0.150821\ttest-merror:0.221000\n",
      "[805]\ttrain-merror:0.150857\ttest-merror:0.220857\n",
      "[806]\ttrain-merror:0.150750\ttest-merror:0.220714\n",
      "[807]\ttrain-merror:0.150786\ttest-merror:0.220714\n",
      "[808]\ttrain-merror:0.150750\ttest-merror:0.220714\n",
      "[809]\ttrain-merror:0.150607\ttest-merror:0.220714\n",
      "[810]\ttrain-merror:0.150643\ttest-merror:0.220714\n",
      "[811]\ttrain-merror:0.150679\ttest-merror:0.220857\n",
      "[812]\ttrain-merror:0.150786\ttest-merror:0.220857\n",
      "[813]\ttrain-merror:0.150750\ttest-merror:0.220857\n",
      "[814]\ttrain-merror:0.150714\ttest-merror:0.220857\n",
      "[815]\ttrain-merror:0.150714\ttest-merror:0.221000\n",
      "[816]\ttrain-merror:0.150714\ttest-merror:0.221000\n",
      "[817]\ttrain-merror:0.150643\ttest-merror:0.221286\n",
      "[818]\ttrain-merror:0.150643\ttest-merror:0.221286\n",
      "[819]\ttrain-merror:0.150607\ttest-merror:0.221143\n",
      "[820]\ttrain-merror:0.150643\ttest-merror:0.221143\n",
      "[821]\ttrain-merror:0.150607\ttest-merror:0.221143\n",
      "[822]\ttrain-merror:0.150464\ttest-merror:0.221000\n",
      "[823]\ttrain-merror:0.150536\ttest-merror:0.221000\n",
      "[824]\ttrain-merror:0.150571\ttest-merror:0.221000\n",
      "[825]\ttrain-merror:0.150536\ttest-merror:0.221000\n",
      "[826]\ttrain-merror:0.150429\ttest-merror:0.221143\n",
      "[827]\ttrain-merror:0.150393\ttest-merror:0.221143\n",
      "[828]\ttrain-merror:0.150393\ttest-merror:0.221000\n",
      "[829]\ttrain-merror:0.150357\ttest-merror:0.221000\n",
      "[830]\ttrain-merror:0.150286\ttest-merror:0.221000\n",
      "[831]\ttrain-merror:0.150250\ttest-merror:0.221143\n",
      "[832]\ttrain-merror:0.150250\ttest-merror:0.221143\n",
      "[833]\ttrain-merror:0.150250\ttest-merror:0.221143\n",
      "[834]\ttrain-merror:0.150286\ttest-merror:0.221143\n",
      "[835]\ttrain-merror:0.150286\ttest-merror:0.221000\n",
      "[836]\ttrain-merror:0.150250\ttest-merror:0.220857\n",
      "[837]\ttrain-merror:0.150214\ttest-merror:0.220857\n",
      "[838]\ttrain-merror:0.150250\ttest-merror:0.220714\n",
      "[839]\ttrain-merror:0.150250\ttest-merror:0.220714\n",
      "[840]\ttrain-merror:0.150250\ttest-merror:0.220714\n",
      "[841]\ttrain-merror:0.150321\ttest-merror:0.220857\n",
      "[842]\ttrain-merror:0.150357\ttest-merror:0.220714\n",
      "[843]\ttrain-merror:0.150214\ttest-merror:0.220857\n",
      "[844]\ttrain-merror:0.150179\ttest-merror:0.220857\n",
      "[845]\ttrain-merror:0.150143\ttest-merror:0.220857\n",
      "[846]\ttrain-merror:0.150143\ttest-merror:0.220857\n",
      "[847]\ttrain-merror:0.150143\ttest-merror:0.220857\n",
      "[848]\ttrain-merror:0.150036\ttest-merror:0.220857\n",
      "[849]\ttrain-merror:0.149964\ttest-merror:0.220857\n",
      "[850]\ttrain-merror:0.149964\ttest-merror:0.221000\n",
      "[851]\ttrain-merror:0.149893\ttest-merror:0.221000\n",
      "[852]\ttrain-merror:0.149857\ttest-merror:0.220714\n",
      "[853]\ttrain-merror:0.149893\ttest-merror:0.220571\n",
      "[854]\ttrain-merror:0.149857\ttest-merror:0.220571\n",
      "[855]\ttrain-merror:0.149821\ttest-merror:0.220714\n",
      "[856]\ttrain-merror:0.149857\ttest-merror:0.220714\n",
      "[857]\ttrain-merror:0.149786\ttest-merror:0.220714\n",
      "[858]\ttrain-merror:0.149821\ttest-merror:0.220857\n",
      "[859]\ttrain-merror:0.149786\ttest-merror:0.220857\n",
      "[860]\ttrain-merror:0.149821\ttest-merror:0.220857\n",
      "[861]\ttrain-merror:0.149714\ttest-merror:0.220857\n",
      "[862]\ttrain-merror:0.149786\ttest-merror:0.221000\n",
      "[863]\ttrain-merror:0.149821\ttest-merror:0.220857\n",
      "[864]\ttrain-merror:0.149679\ttest-merror:0.221000\n",
      "[865]\ttrain-merror:0.149643\ttest-merror:0.221000\n",
      "[866]\ttrain-merror:0.149786\ttest-merror:0.220714\n",
      "[867]\ttrain-merror:0.149786\ttest-merror:0.220857\n",
      "[868]\ttrain-merror:0.149786\ttest-merror:0.220714\n",
      "[869]\ttrain-merror:0.149750\ttest-merror:0.220857\n",
      "[870]\ttrain-merror:0.149714\ttest-merror:0.220857\n",
      "[871]\ttrain-merror:0.149714\ttest-merror:0.220857\n",
      "[872]\ttrain-merror:0.149679\ttest-merror:0.220714\n",
      "[873]\ttrain-merror:0.149500\ttest-merror:0.220714\n",
      "[874]\ttrain-merror:0.149500\ttest-merror:0.220714\n",
      "[875]\ttrain-merror:0.149536\ttest-merror:0.220429\n",
      "[876]\ttrain-merror:0.149500\ttest-merror:0.220571\n",
      "[877]\ttrain-merror:0.149571\ttest-merror:0.220286\n",
      "[878]\ttrain-merror:0.149500\ttest-merror:0.220143\n",
      "[879]\ttrain-merror:0.149536\ttest-merror:0.220143\n",
      "[880]\ttrain-merror:0.149571\ttest-merror:0.220143\n",
      "[881]\ttrain-merror:0.149607\ttest-merror:0.220143\n",
      "[882]\ttrain-merror:0.149429\ttest-merror:0.220143\n",
      "[883]\ttrain-merror:0.149179\ttest-merror:0.220286\n",
      "[884]\ttrain-merror:0.149214\ttest-merror:0.220429\n",
      "[885]\ttrain-merror:0.149286\ttest-merror:0.220286\n",
      "[886]\ttrain-merror:0.149286\ttest-merror:0.220286\n",
      "[887]\ttrain-merror:0.149250\ttest-merror:0.220286\n",
      "[888]\ttrain-merror:0.149250\ttest-merror:0.220429\n",
      "[889]\ttrain-merror:0.149143\ttest-merror:0.220429\n",
      "[890]\ttrain-merror:0.149143\ttest-merror:0.220429\n",
      "[891]\ttrain-merror:0.149107\ttest-merror:0.220286\n",
      "[892]\ttrain-merror:0.149000\ttest-merror:0.220143\n",
      "[893]\ttrain-merror:0.149000\ttest-merror:0.220143\n",
      "[894]\ttrain-merror:0.148964\ttest-merror:0.219857\n",
      "[895]\ttrain-merror:0.149000\ttest-merror:0.220286\n",
      "[896]\ttrain-merror:0.149071\ttest-merror:0.220286\n",
      "[897]\ttrain-merror:0.149036\ttest-merror:0.220143\n",
      "[898]\ttrain-merror:0.149000\ttest-merror:0.220143\n",
      "[899]\ttrain-merror:0.149071\ttest-merror:0.220143\n",
      "[900]\ttrain-merror:0.149143\ttest-merror:0.220143\n",
      "[901]\ttrain-merror:0.149107\ttest-merror:0.220143\n",
      "[902]\ttrain-merror:0.149036\ttest-merror:0.220143\n",
      "[903]\ttrain-merror:0.149000\ttest-merror:0.220000\n",
      "[904]\ttrain-merror:0.149000\ttest-merror:0.220000\n",
      "[905]\ttrain-merror:0.148929\ttest-merror:0.220000\n",
      "[906]\ttrain-merror:0.148964\ttest-merror:0.220000\n",
      "[907]\ttrain-merror:0.148893\ttest-merror:0.220000\n",
      "[908]\ttrain-merror:0.148893\ttest-merror:0.220000\n",
      "[909]\ttrain-merror:0.148893\ttest-merror:0.219857\n",
      "[910]\ttrain-merror:0.148857\ttest-merror:0.219857\n",
      "[911]\ttrain-merror:0.148786\ttest-merror:0.219857\n",
      "[912]\ttrain-merror:0.148821\ttest-merror:0.219857\n",
      "[913]\ttrain-merror:0.148821\ttest-merror:0.219857\n",
      "[914]\ttrain-merror:0.148714\ttest-merror:0.219714\n",
      "[915]\ttrain-merror:0.148714\ttest-merror:0.219571\n",
      "[916]\ttrain-merror:0.148679\ttest-merror:0.219714\n",
      "[917]\ttrain-merror:0.148607\ttest-merror:0.219714\n",
      "[918]\ttrain-merror:0.148500\ttest-merror:0.219714\n",
      "[919]\ttrain-merror:0.148464\ttest-merror:0.219714\n",
      "[920]\ttrain-merror:0.148357\ttest-merror:0.219714\n",
      "[921]\ttrain-merror:0.148357\ttest-merror:0.219714\n",
      "[922]\ttrain-merror:0.148393\ttest-merror:0.219571\n",
      "[923]\ttrain-merror:0.148429\ttest-merror:0.219714\n",
      "[924]\ttrain-merror:0.148429\ttest-merror:0.219571\n",
      "[925]\ttrain-merror:0.148429\ttest-merror:0.219714\n",
      "[926]\ttrain-merror:0.148393\ttest-merror:0.219571\n",
      "[927]\ttrain-merror:0.148393\ttest-merror:0.219571\n",
      "[928]\ttrain-merror:0.148357\ttest-merror:0.219571\n",
      "[929]\ttrain-merror:0.148429\ttest-merror:0.219571\n",
      "[930]\ttrain-merror:0.148393\ttest-merror:0.219429\n",
      "[931]\ttrain-merror:0.148321\ttest-merror:0.219429\n",
      "[932]\ttrain-merror:0.148357\ttest-merror:0.219429\n",
      "[933]\ttrain-merror:0.148321\ttest-merror:0.219429\n",
      "[934]\ttrain-merror:0.148250\ttest-merror:0.219429\n",
      "[935]\ttrain-merror:0.148286\ttest-merror:0.219429\n",
      "[936]\ttrain-merror:0.148250\ttest-merror:0.219286\n",
      "[937]\ttrain-merror:0.148214\ttest-merror:0.219286\n",
      "[938]\ttrain-merror:0.148143\ttest-merror:0.219286\n",
      "[939]\ttrain-merror:0.148036\ttest-merror:0.219286\n",
      "[940]\ttrain-merror:0.148000\ttest-merror:0.219429\n",
      "[941]\ttrain-merror:0.148000\ttest-merror:0.219571\n",
      "[942]\ttrain-merror:0.148000\ttest-merror:0.219571\n",
      "[943]\ttrain-merror:0.147964\ttest-merror:0.219429\n",
      "[944]\ttrain-merror:0.147893\ttest-merror:0.219429\n",
      "[945]\ttrain-merror:0.147893\ttest-merror:0.219286\n",
      "[946]\ttrain-merror:0.147857\ttest-merror:0.219143\n",
      "[947]\ttrain-merror:0.147929\ttest-merror:0.219143\n",
      "[948]\ttrain-merror:0.148000\ttest-merror:0.219286\n",
      "[949]\ttrain-merror:0.147964\ttest-merror:0.219429\n",
      "[950]\ttrain-merror:0.147893\ttest-merror:0.219429\n",
      "[951]\ttrain-merror:0.147750\ttest-merror:0.219286\n",
      "[952]\ttrain-merror:0.147821\ttest-merror:0.219286\n",
      "[953]\ttrain-merror:0.147714\ttest-merror:0.219286\n",
      "[954]\ttrain-merror:0.147643\ttest-merror:0.219286\n",
      "[955]\ttrain-merror:0.147643\ttest-merror:0.219143\n",
      "[956]\ttrain-merror:0.147643\ttest-merror:0.219286\n",
      "[957]\ttrain-merror:0.147643\ttest-merror:0.219429\n"
     ]
    }
   ],
   "source": [
    "watchlist = [ (xg_train,'train'), (xg_test, 'test') ]\n",
    "num_round = 1000\n",
    "bst = xgb.train(param, xg_train, num_round, watchlist );"
   ]
  },
  {
   "cell_type": "code",
   "execution_count": 253,
   "metadata": {
    "collapsed": true
   },
   "outputs": [],
   "source": [
    "xg_full = xgb.DMatrix( bag_of_ingredients_sparse, label=train_target )"
   ]
  },
  {
   "cell_type": "code",
   "execution_count": 254,
   "metadata": {
    "collapsed": true
   },
   "outputs": [],
   "source": [
    "xgb_model = xgb.train(param, xg_full, num_round)"
   ]
  },
  {
   "cell_type": "code",
   "execution_count": 262,
   "metadata": {
    "collapsed": true
   },
   "outputs": [],
   "source": [
    "xg_test = xgb.DMatrix( bag_of_ingredients_sparse_test )"
   ]
  },
  {
   "cell_type": "code",
   "execution_count": 263,
   "metadata": {
    "collapsed": true
   },
   "outputs": [],
   "source": [
    "xgb_preds = xgb_model.predict(xg_test)"
   ]
  },
  {
   "cell_type": "code",
   "execution_count": 266,
   "metadata": {
    "collapsed": false
   },
   "outputs": [],
   "source": [
    "preds = [int(pred) for pred in xgb_preds]"
   ]
  },
  {
   "cell_type": "markdown",
   "metadata": {},
   "source": [
    "## Predictions"
   ]
  },
  {
   "cell_type": "code",
   "execution_count": 168,
   "metadata": {
    "collapsed": true
   },
   "outputs": [],
   "source": [
    "train_X_feat = cvec.fit_transform(train_X)"
   ]
  },
  {
   "cell_type": "code",
   "execution_count": 169,
   "metadata": {
    "collapsed": false
   },
   "outputs": [
    {
     "data": {
      "text/plain": [
       "LogisticRegression(C=1, class_weight=None, dual=False, fit_intercept=True,\n",
       "          intercept_scaling=1, max_iter=100, multi_class='ovr',\n",
       "          penalty='l1', random_state=None, solver='liblinear', tol=0.0001,\n",
       "          verbose=0)"
      ]
     },
     "execution_count": 169,
     "metadata": {},
     "output_type": "execute_result"
    }
   ],
   "source": [
    "log.fit(train_X_feat, train_target)"
   ]
  },
  {
   "cell_type": "code",
   "execution_count": 170,
   "metadata": {
    "collapsed": true
   },
   "outputs": [],
   "source": [
    "X_test = cvec.transform(cuisines_test.ingredients)"
   ]
  },
  {
   "cell_type": "code",
   "execution_count": 171,
   "metadata": {
    "collapsed": true
   },
   "outputs": [],
   "source": [
    "preds = log.predict(X_test)"
   ]
  },
  {
   "cell_type": "markdown",
   "metadata": {},
   "source": [
    "## Submission"
   ]
  },
  {
   "cell_type": "code",
   "execution_count": 268,
   "metadata": {
    "collapsed": true
   },
   "outputs": [],
   "source": [
    "preds_labels = lbl_encoder.inverse_transform(preds)"
   ]
  },
  {
   "cell_type": "code",
   "execution_count": 269,
   "metadata": {
    "collapsed": true
   },
   "outputs": [],
   "source": [
    "test_ids = cuisines_test.index.values\n",
    "submission_df = pd.DataFrame({'id': test_ids, 'cuisine': preds_labels})\n",
    "submission_df.to_csv('./submissions/xgb_preds.csv', index=False)"
   ]
  },
  {
   "cell_type": "code",
   "execution_count": null,
   "metadata": {
    "collapsed": true
   },
   "outputs": [],
   "source": []
  }
 ],
 "metadata": {
  "kernelspec": {
   "display_name": "Python 3",
   "language": "python",
   "name": "python3"
  },
  "language_info": {
   "codemirror_mode": {
    "name": "ipython",
    "version": 3
   },
   "file_extension": ".py",
   "mimetype": "text/x-python",
   "name": "python",
   "nbconvert_exporter": "python",
   "pygments_lexer": "ipython3",
   "version": "3.5.2"
  }
 },
 "nbformat": 4,
 "nbformat_minor": 0
}
