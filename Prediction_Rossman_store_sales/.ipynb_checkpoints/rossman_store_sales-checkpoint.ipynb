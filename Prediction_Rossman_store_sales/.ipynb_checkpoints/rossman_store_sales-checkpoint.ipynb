{
 "cells": [
  {
   "cell_type": "code",
   "execution_count": null,
   "metadata": {
    "collapsed": false
   },
   "outputs": [],
   "source": [
    "# special IPython command to prepare the notebook for matplotlib\n",
    "%matplotlib inline \n",
    "\n",
    "import numpy as np\n",
    "import pandas as pd\n",
    "import scipy.stats as stats\n",
    "import matplotlib.pyplot as plt\n",
    "import sklearn\n",
    "import statsmodels.api as sm\n",
    "\n",
    "import seaborn as sns\n",
    "sns.set_style(\"whitegrid\")\n",
    "sns.set_context(\"poster\")\n",
    "\n",
    "from math import sqrt\n",
    "\n",
    "from sklearn.preprocessing import LabelEncoder\n",
    "from sklearn.linear_model import LinearRegression\n",
    "from sklearn.ensemble import RandomForestRegressor\n",
    "\n",
    "# special matplotlib argument for improved plots\n",
    "from matplotlib import rcParams\n"
   ]
  },
  {
   "cell_type": "code",
   "execution_count": null,
   "metadata": {
    "collapsed": true
   },
   "outputs": [],
   "source": [
    "%run scripts/rossman.py\n",
    "%run scripts/helper.py"
   ]
  },
  {
   "cell_type": "code",
   "execution_count": null,
   "metadata": {
    "collapsed": false
   },
   "outputs": [],
   "source": [
    "rossman = Rossman('./data/train.csv', './data/test.csv', './data/store.csv')"
   ]
  },
  {
   "cell_type": "code",
   "execution_count": null,
   "metadata": {
    "collapsed": true
   },
   "outputs": [],
   "source": [
    "# merge with stores data\n",
    "train_df_merged = rossman.merge_stores_data()"
   ]
  },
  {
   "cell_type": "code",
   "execution_count": null,
   "metadata": {
    "collapsed": true
   },
   "outputs": [],
   "source": [
    "# consider only those entries with non-zero sales value\n",
    "train_df_with_non_zero_sales = rossman.non_zero_sales_data()"
   ]
  },
  {
   "cell_type": "code",
   "execution_count": null,
   "metadata": {
    "collapsed": true
   },
   "outputs": [],
   "source": [
    "# test dataset\n",
    "test_df = rossman.test_df.copy()"
   ]
  },
  {
   "cell_type": "code",
   "execution_count": null,
   "metadata": {
    "collapsed": false
   },
   "outputs": [],
   "source": [
    "# preprocessing - converting all categorical variables into numerical values\n",
    "train_df_processed, test_df_processed = preprocessing(train_df_with_non_zero_sales, test_df)"
   ]
  },
  {
   "cell_type": "code",
   "execution_count": null,
   "metadata": {
    "collapsed": false
   },
   "outputs": [],
   "source": [
    "# create three separate training examples for three years\n",
    "\n",
    "# train_df_2013 = get_data(train_df, '2013-01-01', '2013-12-31')\n",
    "train_df_2014_2015 = get_data(train_df, '2014-01-01', '2015-12-31')\n",
    "# train_df_2015 = get_data(train_df, '2015-01-01', '2015-12-31')"
   ]
  },
  {
   "cell_type": "code",
   "execution_count": null,
   "metadata": {
    "collapsed": true
   },
   "outputs": [],
   "source": [
    "features = train_df_2013.columns.drop(['Date', 'Sales'])"
   ]
  },
  {
   "cell_type": "code",
   "execution_count": null,
   "metadata": {
    "collapsed": true
   },
   "outputs": [],
   "source": [
    "# X_train_2013 = train_df_2013[features]\n",
    "X_train_2014_2015 = train_df_2014[features]\n",
    "# X_train_2015 = train_df_2015[features]"
   ]
  },
  {
   "cell_type": "code",
   "execution_count": null,
   "metadata": {
    "collapsed": true
   },
   "outputs": [],
   "source": [
    "# y_train_2013 = np.log1p(train_df_2013.Sales)\n",
    "y_train_2014_2015 = np.log1p(train_df_2014.Sales)\n",
    "# y_train_2015 = np.log1p(train_df_2015.Sales)"
   ]
  },
  {
   "cell_type": "code",
   "execution_count": null,
   "metadata": {
    "collapsed": true
   },
   "outputs": [],
   "source": [
    "# Extreme Gradient Boosting\n",
    "## Creating models on dataset from three different years\n",
    "## and testing it out on the final 6 weeks of year 2015\n",
    "\n",
    "import xgboost as xgb"
   ]
  },
  {
   "cell_type": "code",
   "execution_count": null,
   "metadata": {
    "collapsed": true
   },
   "outputs": [],
   "source": [
    "# training a model on data from year 2013\n",
    "# dtrain_2013 = xgb.DMatrix(X_train_2013, y_train_2013, missing=-999.0)\n",
    "dtrain_2014 = xgb.DMatrix(X_train_2014, y_train_2014, missing=-999.0)\n",
    "# dtrain_2015 = xgb.DMatrix(X_train_2015, y_train_2015, missing=-999.0)"
   ]
  },
  {
   "cell_type": "code",
   "execution_count": null,
   "metadata": {
    "collapsed": false
   },
   "outputs": [],
   "source": [
    "Xtest = test_df_processed[features]\n",
    "\n",
    "Xtest.Open.fillna(1, inplace=True)\n",
    "\n",
    "Xtest_open_stores = Xtest[Xtest.Open == 1]\n",
    "Xtest_closed_stores = Xtest[Xtest.Open == 0]\n",
    "\n",
    "dtest = xgb.DMatrix(Xtest_open_stores, missing=-999.0)"
   ]
  },
  {
   "cell_type": "code",
   "execution_count": null,
   "metadata": {
    "collapsed": false
   },
   "outputs": [],
   "source": [
    "params_2014 = dict((('silent', 1), ('nthread', 8), ('objective', 'reg:linear'),('eta', 0.05), \n",
    "                    ('subsample', 0.8), ('colsample_bytree', 0.7), ('min_child_weight', 5), ('max_depth', 8)))\n",
    "num_round = 1500\n",
    "\n",
    "model_2014 = xgb.train(params_2014, dtrain_2014, num_round, feval=rmspe_xg)"
   ]
  },
  {
   "cell_type": "code",
   "execution_count": null,
   "metadata": {
    "collapsed": false
   },
   "outputs": [],
   "source": [
    "# predictions for the year 2014\n",
    "\n",
    "predictions_test = np.expm1(model_2014.predict(dtest))"
   ]
  },
  {
   "cell_type": "code",
   "execution_count": null,
   "metadata": {
    "collapsed": true
   },
   "outputs": [],
   "source": [
    "# predictions for open and closed stores and then stack them together\n",
    "open_stores_test_ids = Xtest_open_stores.index.values + 1\n",
    "closed_stores_test_ids = Xtest_closed_stores.index.values + 1\n",
    "\n",
    "open_stores_preds = predictions_test\n",
    "closed_stores_preds = [0.] * len(closed_stores_test_ids)\n",
    "\n",
    "final_ids = np.hstack([open_stores_test_ids, closed_stores_test_ids])\n",
    "final_preds = np.hstack([open_stores_preds, closed_stores_preds])"
   ]
  },
  {
   "cell_type": "code",
   "execution_count": null,
   "metadata": {
    "collapsed": false
   },
   "outputs": [],
   "source": [
    "create_submission(final_ids, final_preds, 'xgb_only_2014.csv')"
   ]
  },
  {
   "cell_type": "code",
   "execution_count": null,
   "metadata": {
    "collapsed": true
   },
   "outputs": [],
   "source": [
    "params_2015 = dict((('silent', 1), ('nthread', 8), ('objective', 'reg:linear'),('eta', 0.05), \n",
    "                    ('subsample', 0.8), ('colsample_bytree', 0.7), ('min_child_weight', 5), ('max_depth', 8)))\n",
    "num_round = 1000\n",
    "\n",
    "model_2015 = xgb.train(params_2015, dtrain_2015, num_round, feval=rmspe_xg)"
   ]
  },
  {
   "cell_type": "code",
   "execution_count": null,
   "metadata": {
    "collapsed": false
   },
   "outputs": [],
   "source": [
    "# predictions for the year 2014\n",
    "predictions_2015 = np.expm1(model_2015.predict(dtest))\n",
    "\n",
    "print 'RMSPE error for model based on examples from the year 2015 ', rmspe(ytest, predictions_2015)"
   ]
  },
  {
   "cell_type": "code",
   "execution_count": null,
   "metadata": {
    "collapsed": false
   },
   "outputs": [],
   "source": [
    "# find the correlations between three predictions\n",
    "prediction_df = pd.DataFrame({'2013': predictions_2013, '2014': predictions_2014, '2015': predictions_2015})\n",
    "prediction_df.corr()"
   ]
  },
  {
   "cell_type": "code",
   "execution_count": null,
   "metadata": {
    "collapsed": true
   },
   "outputs": [],
   "source": [
    "prediction_avg = .1 * predictions_2013 + 0.8 * predictions_2014 + .1 * predictions_2015"
   ]
  },
  {
   "cell_type": "code",
   "execution_count": null,
   "metadata": {
    "collapsed": false
   },
   "outputs": [],
   "source": [
    "print 'RMSPE error for average of the predictions of three models ', rmspe(ytest, prediction_avg)"
   ]
  },
  {
   "cell_type": "code",
   "execution_count": null,
   "metadata": {
    "collapsed": false
   },
   "outputs": [],
   "source": [
    "rossman.test_df.Open.value_counts()"
   ]
  },
  {
   "cell_type": "code",
   "execution_count": null,
   "metadata": {
    "collapsed": true
   },
   "outputs": [],
   "source": []
  }
 ],
 "metadata": {
  "kernelspec": {
   "display_name": "Python 3",
   "language": "python",
   "name": "python3"
  },
  "language_info": {
   "codemirror_mode": {
    "name": "ipython",
    "version": 3
   },
   "file_extension": ".py",
   "mimetype": "text/x-python",
   "name": "python",
   "nbconvert_exporter": "python",
   "pygments_lexer": "ipython3",
   "version": "3.5.2"
  }
 },
 "nbformat": 4,
 "nbformat_minor": 0
}
